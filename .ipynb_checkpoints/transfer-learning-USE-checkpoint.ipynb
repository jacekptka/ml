{
 "cells": [
  {
   "cell_type": "markdown",
   "metadata": {},
   "source": [
    "### Praca z tekstem: Universal Sentence Encoder\n",
    "\n",
    "Universal Sentence Encoder enkoduje tekst w wysokiej jakości wektory, które można wykorzystać do klasyfikacji tekstu, podobieństwa semantycznego, grupowania i innych zadań w przetwarzaniu języka naturalnego.\n",
    "\n",
    "Model jest trenowany i zoptymalizowany pod kątem tekstu o długości większej niż słowo, takiego jak zdania, frazy lub krótkie akapity. Jest trenowany na różnych źródłach danych i różnorodnych zadaniach w celu dynamicznego dostosowania się do różnorodnych zadań związanych z rozumieniem języka naturalnego. Wejście to angielski tekst o zmiennej długości, a wyjście to 512-wymiarowy wektor. \n",
    "\n",
    "Więcej informacji na temat osadzania tekstu można znaleźć w dokumentacji TensorFlow Embeddings. Nasz koder różni się od modeli tworzących wektory zanurzeń (embeddings) na poziomie słów tym, że trenujemy na wielu zadaniach języka naturalnego, które wymagają modelowania znaczenia sekwencji słów, a nie tylko pojedynczych słów. Szczegóły są dostępne w artykule „Universal Sentence Encoder”.\n",
    "\n",
    "Prykład z klasyfikacją:\n",
    "<img src=\"images/example-classification.png\">\n",
    "\n",
    "Przykład z podobieństwem semantycznym:\n",
    "<img src=\"images/example-similarity.png\">\n",
    "\n",
    "Więcej informacji: https://tfhub.dev/google/universal-sentence-encoder/1"
   ]
  },
  {
   "cell_type": "markdown",
   "metadata": {},
   "source": [
    "W przypadku problemów można próbować ściągnąć model lokalnie:\n",
    "    https://www.tensorflow.org/hub/common_issues"
   ]
  },
  {
   "cell_type": "code",
   "execution_count": 1,
   "metadata": {},
   "outputs": [
    {
     "name": "stderr",
     "output_type": "stream",
     "text": [
      "WARNING: Logging before flag parsing goes to stderr.\n",
      "W0511 11:38:26.177261 140536807585600 __init__.py:56] Some hub symbols are not available because TensorFlow version is less than 1.14\n"
     ]
    }
   ],
   "source": [
    "import tensorflow as tf\n",
    "import tensorflow_hub as hub\n",
    "#"
   ]
  },
  {
   "cell_type": "code",
   "execution_count": 2,
   "metadata": {},
   "outputs": [
    {
     "name": "stdout",
     "output_type": "stream",
     "text": [
      "WARNING:tensorflow:From /opt/anaconda3/lib/python3.6/site-packages/tensorflow/python/ops/control_flow_ops.py:3632: colocate_with (from tensorflow.python.framework.ops) is deprecated and will be removed in a future version.\n",
      "Instructions for updating:\n",
      "Colocations handled automatically by placer.\n"
     ]
    },
    {
     "name": "stderr",
     "output_type": "stream",
     "text": [
      "W0511 11:39:37.623933 140536807585600 deprecation.py:323] From /opt/anaconda3/lib/python3.6/site-packages/tensorflow/python/ops/control_flow_ops.py:3632: colocate_with (from tensorflow.python.framework.ops) is deprecated and will be removed in a future version.\n",
      "Instructions for updating:\n",
      "Colocations handled automatically by placer.\n"
     ]
    }
   ],
   "source": [
    "module_url = \"https://tfhub.dev/google/universal-sentence-encoder/2\" \n",
    "import os\n",
    "import tensorflow_hub as hub\n",
    "\n",
    "use = hub.Module(module_url)\n",
    "#use = hub.Module(\"/Users/aleks/tf_cache\")"
   ]
  },
  {
   "cell_type": "markdown",
   "metadata": {},
   "source": [
    "Model USE można wywoływać bezpośrednio na liście napisów:"
   ]
  },
  {
   "cell_type": "code",
   "execution_count": 5,
   "metadata": {},
   "outputs": [
    {
     "name": "stdout",
     "output_type": "stream",
     "text": [
      "INFO:tensorflow:Saver not created because there are no variables in the graph to restore\n"
     ]
    },
    {
     "name": "stderr",
     "output_type": "stream",
     "text": [
      "I0510 22:02:57.186490 4554524096 saver.py:1483] Saver not created because there are no variables in the graph to restore\n"
     ]
    }
   ],
   "source": [
    "embeddings =  use([\"The quick brown fox jumps over the lazy dog.\"])"
   ]
  },
  {
   "cell_type": "code",
   "execution_count": 6,
   "metadata": {},
   "outputs": [
    {
     "data": {
      "text/plain": [
       "TensorShape([Dimension(None), Dimension(512)])"
      ]
     },
     "execution_count": 6,
     "metadata": {},
     "output_type": "execute_result"
    }
   ],
   "source": [
    "embeddings.shape"
   ]
  },
  {
   "cell_type": "markdown",
   "metadata": {},
   "source": [
    "ĆWICZENIA:\n",
    "\n",
    "1. Wygeneruj wektory USE dla każdego tweeta z poprzednich laboratoriów\n",
    "\n",
    "\n",
    "2. Wykorzystując wektory USE jako reprezentację tweetów, spróbuj klasyfikacji siecią Dense w Kerasie\n",
    "\n",
    "\n",
    "3. Wykorzystując wektory USE jako reprezentację tweetów, spróbuj klasyfikacji metodą SVM z pakietu scikit-learn"
   ]
  },
  {
   "cell_type": "code",
   "execution_count": null,
   "metadata": {},
   "outputs": [],
   "source": []
  }
 ],
 "metadata": {
  "kernelspec": {
   "display_name": "Python 3",
   "language": "python",
   "name": "python3"
  },
  "language_info": {
   "codemirror_mode": {
    "name": "ipython",
    "version": 3
   },
   "file_extension": ".py",
   "mimetype": "text/x-python",
   "name": "python",
   "nbconvert_exporter": "python",
   "pygments_lexer": "ipython3",
   "version": "3.6.8"
  }
 },
 "nbformat": 4,
 "nbformat_minor": 2
}
