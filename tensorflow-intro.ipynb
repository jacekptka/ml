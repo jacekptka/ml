{
 "cells": [
  {
   "cell_type": "code",
   "execution_count": 13,
   "metadata": {},
   "outputs": [],
   "source": [
    "from __future__ import print_function\n",
    "import numpy as np\n",
    "import tensorflow as tf\n",
    "from six.moves import cPickle as pickle"
   ]
  },
  {
   "cell_type": "code",
   "execution_count": 14,
   "metadata": {},
   "outputs": [
    {
     "name": "stdout",
     "output_type": "stream",
     "text": [
      "(1797, 64)\n"
     ]
    }
   ],
   "source": [
    "from sklearn.datasets import load_digits\n",
    "digits = load_digits()\n",
    "print(digits.data.shape)"
   ]
  },
  {
   "cell_type": "code",
   "execution_count": 15,
   "metadata": {},
   "outputs": [
    {
     "data": {
      "text/plain": [
       "((1797, 8, 8), (1797,))"
      ]
     },
     "execution_count": 15,
     "metadata": {},
     "output_type": "execute_result"
    }
   ],
   "source": [
    "X = digits['images']\n",
    "Y = digits['target']\n",
    "X.shape, Y.shape"
   ]
  },
  {
   "cell_type": "markdown",
   "metadata": {},
   "source": [
    "Ponizszy kod filtruje, czyli pozostawia, tylko obrazki (zarowno X i Y) ktore przedstawiaja cyfry 0 i 1.\n",
    "Upraszczamy problem do klasyfikacji binarnej."
   ]
  },
  {
   "cell_type": "code",
   "execution_count": 16,
   "metadata": {},
   "outputs": [
    {
     "data": {
      "text/plain": [
       "(360, 8, 8)"
      ]
     },
     "execution_count": 16,
     "metadata": {},
     "output_type": "execute_result"
    }
   ],
   "source": [
    "ix = np.isin(Y, [0,1])\n",
    "X_zeroone = np.compress(ix, X, axis=0)  # axis=1\n",
    "Y_zeroone = np.compress(ix, Y, axis=0)\n",
    "X_zeroone.shape"
   ]
  },
  {
   "cell_type": "markdown",
   "metadata": {},
   "source": [
    "Uruchomienie ponizszych linijek skutkuje zaladowaniem pelnego zbioru danych o wszystkich 10ciu cyfrach."
   ]
  },
  {
   "cell_type": "code",
   "execution_count": 17,
   "metadata": {},
   "outputs": [],
   "source": [
    "#X_zeroone = X\n",
    "#Y_zeroone = Y"
   ]
  },
  {
   "cell_type": "markdown",
   "metadata": {},
   "source": [
    "Podzial na testowe i treningowe dane:"
   ]
  },
  {
   "cell_type": "code",
   "execution_count": 18,
   "metadata": {},
   "outputs": [],
   "source": [
    "# w przypadku pelnego zbioru danych, ustaw takefirst np na 1500\n",
    "takefirst=300\n",
    "X_train, X_test = X_zeroone[:takefirst,:], X_zeroone[takefirst:,]\n",
    "Y_train, Y_test = Y_zeroone[:takefirst], Y_zeroone[takefirst:]"
   ]
  },
  {
   "cell_type": "code",
   "execution_count": 19,
   "metadata": {},
   "outputs": [
    {
     "data": {
      "text/plain": [
       "((300, 8, 8), (60, 8, 8), (300,), (60,))"
      ]
     },
     "execution_count": 19,
     "metadata": {},
     "output_type": "execute_result"
    }
   ],
   "source": [
    "X_train.shape, X_test.shape, Y_train.shape, Y_test.shape"
   ]
  },
  {
   "cell_type": "code",
   "execution_count": 20,
   "metadata": {},
   "outputs": [
    {
     "name": "stdout",
     "output_type": "stream",
     "text": [
      "Training set (300, 64) (300, 10)\n",
      "Test set (60, 64) (60, 10)\n"
     ]
    }
   ],
   "source": [
    "image_size = 8\n",
    "num_labels = len(np.unique(Y))\n",
    "\n",
    "def reformat(dataset, labels):\n",
    "  dataset = dataset.reshape((-1, image_size * image_size)).astype(np.float32)\n",
    "  # Map 2 to [0.0, 1.0, 0.0 ...], 3 to [0.0, 0.0, 1.0 ...]\n",
    "  labels = (np.arange(num_labels) == labels[:,None]).astype(np.float32)\n",
    "  return dataset, labels\n",
    "X_train, Y_train = reformat(X_train, Y_train)\n",
    "X_test, Y_test = reformat(X_test, Y_test)\n",
    "print('Training set', X_train.shape, Y_train.shape)\n",
    "print('Test set', X_test.shape, Y_test.shape)"
   ]
  },
  {
   "cell_type": "markdown",
   "metadata": {},
   "source": [
    "W tym punkcie mamy dane przygotowane do dalszej pracy!"
   ]
  },
  {
   "cell_type": "markdown",
   "metadata": {},
   "source": [
    "### Problem 1 ###\n",
    "L2 oznacza dodanie kary do loss function, opisującej wielkość wektora wag. W TensorFlow można obliczyć loss L2 dla tensora t, używając nn.l2_loss (t). Odpowiednia wartość regularyzacji powinna poprawić dokładność.\n",
    "Zacznijmy od regresji logistycznej. "
   ]
  },
  {
   "cell_type": "code",
   "execution_count": 42,
   "metadata": {},
   "outputs": [],
   "source": [
    "batch_size = 64\n",
    "learning_rate = 0.5\n",
    "beta = 0.005\n",
    "\n",
    "graph = tf.Graph()\n",
    "with graph.as_default():\n",
    "\n",
    "  # ZADANIE\n",
    "  # dane wejsciowe: uzyj metod tf.placeholder do wczytania danych z pojedynczego batcha\n",
    "  # pamietaj o wymiarach! pierwszy wymiar obu placehoderow powinien przedstawiac wielkosc batcha\n",
    "  tf_train_dataset = tf.placeholder(tf.float32, shape=(batch_size, None), name='dataset')\n",
    "  tf_train_labels = tf.placeholder(tf.float32, shape=(batch_size, None), name='labels')\n",
    "  tf_test_dataset = tf.constant(X_test, dtype=tf.float32)\n",
    "  \n",
    "  # Parametry modelu:\n",
    "  weights = tf.Variable(\n",
    "    tf.truncated_normal([image_size * image_size, num_labels]), dtype=tf.float32)\n",
    "  biases = tf.Variable(tf.zeros([num_labels]), dtype=tf.float32)\n",
    "  \n",
    "  # Obliczanie logitow:\n",
    "  logits = tf.matmul(tf_train_dataset, weights) + biases\n",
    "  loss = tf.reduce_mean(tf.nn.softmax_cross_entropy_with_logits(\n",
    "      logits=logits, labels=tf_train_labels))\n",
    "\n",
    "  # ZADANIE\n",
    "  # dodaj do obliczonego wyzej loss skladowa L2 regularyzujaca wagi (weights), uzyj na przyklad\n",
    "  # https://www.tensorflow.org/api_docs/python/tf/nn/l2_loss\n",
    "  # pamietaj o wspolczynniku beta, tj beta*L2\n",
    "  #loss += None\n",
    "  \n",
    "  # Definiujemy optimizer jako Gradient Descent, wywolujac na nim metode minimize \n",
    "  optimizer = tf.train.GradientDescentOptimizer(learning_rate).minimize(loss)\n",
    "  \n",
    "  # Predykcje na danych treningowych:\n",
    "  train_prediction = tf.nn.softmax(logits)\n",
    "\n",
    "  # ZADANIE\n",
    "  # oblicz predykcje na danych testowych, uzyj tf.nn.softmax; dalej analogicznie jak logits\n",
    "  #test_prediction = None"
   ]
  },
  {
   "cell_type": "code",
   "execution_count": 43,
   "metadata": {},
   "outputs": [],
   "source": [
    "def accuracy(predictions, labels):\n",
    "  return (100.0 * np.sum(np.argmax(predictions, 1) == np.argmax(labels, 1))\n",
    "          / predictions.shape[0])"
   ]
  },
  {
   "cell_type": "code",
   "execution_count": 44,
   "metadata": {},
   "outputs": [
    {
     "name": "stdout",
     "output_type": "stream",
     "text": [
      "Initialized\n",
      "Minibatch loss at step 0: 86.196823\n",
      "Minibatch accuracy: 0.0%\n",
      "Minibatch loss at step 500: 0.000000\n",
      "Minibatch accuracy: 100.0%\n",
      "Minibatch loss at step 1000: 0.000000\n",
      "Minibatch accuracy: 100.0%\n",
      "Minibatch loss at step 1500: 0.000000\n",
      "Minibatch accuracy: 100.0%\n",
      "Minibatch loss at step 2000: 0.000000\n",
      "Minibatch accuracy: 100.0%\n",
      "Minibatch loss at step 2500: 0.000000\n",
      "Minibatch accuracy: 100.0%\n",
      "Minibatch loss at step 3000: 0.000000\n",
      "Minibatch accuracy: 100.0%\n",
      "Minibatch loss at step 3500: 0.000000\n",
      "Minibatch accuracy: 100.0%\n",
      "Minibatch loss at step 4000: 0.000000\n",
      "Minibatch accuracy: 100.0%\n",
      "Minibatch loss at step 4500: 0.000000\n",
      "Minibatch accuracy: 100.0%\n",
      "Minibatch loss at step 5000: 0.000000\n",
      "Minibatch accuracy: 100.0%\n"
     ]
    }
   ],
   "source": [
    "num_steps = 5001\n",
    "\n",
    "with tf.Session(graph=graph) as session:\n",
    "  tf.global_variables_initializer().run()\n",
    "  print(\"Initialized\")\n",
    "  for step in range(num_steps):\n",
    "    # wybierz offset w danych treningowych\n",
    "    offset = (step * batch_size) % (X_train.shape[0] - batch_size)\n",
    "    # wygeneruj minibatch.\n",
    "    batch_data = X_train[offset:(offset + batch_size), :]\n",
    "    batch_labels = Y_train[offset:(offset + batch_size), :]\n",
    "    # ZADANIE:\n",
    "    # przygotuj obiekt feed_dict - slownik zawierajacy dane treningowe i ich labele \n",
    "    # kluczem sa placeholdery w grafie, a wartosciami zmienne numpy zawierajace dane z obecnego batcha\n",
    "    feed_dict = {\n",
    "        tf_train_dataset: batch_data,\n",
    "        tf_train_labels: batch_labels}\n",
    "    _, l, predictions = session.run(\n",
    "      [optimizer, loss, train_prediction], feed_dict=feed_dict)\n",
    "    if (step % 500 == 0):\n",
    "      print(\"Minibatch loss at step %d: %f\" % (step, l))\n",
    "      print(\"Minibatch accuracy: %.1f%%\" % accuracy(predictions, batch_labels))\n",
    "      #print(\"Test accuracy: %.1f%%\" % accuracy(test_prediction.eval(), Y_test))"
   ]
  },
  {
   "cell_type": "markdown",
   "metadata": {},
   "source": [
    "### Problem\n",
    "Dropout na ukrytej warstwie sieci neuronowej. \n",
    "Pamiętaj: Dropout powinien być wprowadzony tylko podczas treningu, a nie ewaluacji, w przeciwnym razie wyniki oceny byłyby stochastyczne. TensorFlow dostarcza nn.dropout(), ale musisz się upewnić, że jest włączony tylko podczas treningu."
   ]
  },
  {
   "cell_type": "markdown",
   "metadata": {},
   "source": [
    "#### Model"
   ]
  },
  {
   "cell_type": "code",
   "execution_count": 227,
   "metadata": {},
   "outputs": [],
   "source": [
    "batch_size = 32\n",
    "hidden_nodes = 1024\n",
    "learning_rate = 0.3\n",
    "beta = 0.005\n",
    "\n",
    "graph = tf.Graph()\n",
    "with graph.as_default():\n",
    "\n",
    "  # wczytywanie danych wg tej samej metody placeholder jak powyzej\n",
    "  tf_train_dataset = None\n",
    "  tf_train_labels = None\n",
    "  tf_test_dataset = tf.constant(X_test, dtype=tf.float32)\n",
    "\n",
    "  # Placeholder przechowujacy prawdopodobienstwo pozostawienia wagi\n",
    "  keep_prob = tf.placeholder(tf.float32)\n",
    "  \n",
    "  # Parametry modelu\n",
    "  weights_1 = tf.Variable( tf.truncated_normal([image_size * image_size, hidden_nodes]))\n",
    "  biases_1 = tf.Variable(tf.zeros([hidden_nodes]))\n",
    "  weights_2 = tf.Variable( tf.truncated_normal([hidden_nodes, num_labels]))\n",
    "  biases_2 = tf.Variable(tf.zeros([num_labels]))\n",
    "  \n",
    "  # Training computation.\n",
    "  def forward_prop(input):\n",
    "    # ZADANIE: \n",
    "    # zaimplementuj h1 jako zmienna przechowujaca wynik aktywacji relu, zastosowanej do \n",
    "    # produktu macierzowego input i weights_1, do ktorego dodaj biases_1\n",
    "    # uzyj https://www.tensorflow.org/api_docs/python/tf/nn/relu\n",
    "    h1 = None\n",
    "    \n",
    "    # ZADANIE:\n",
    "    # dodaj dropout do warstwy ukrytej h1\n",
    "    # uzyj https://www.tensorflow.org/api_docs/python/tf/nn/dropout\n",
    "    drop = None\n",
    "    return tf.matmul(drop, weights_2) + biases_2\n",
    "    \n",
    "  logits = forward_prop(tf_train_dataset)\n",
    "  loss = tf.reduce_mean(\n",
    "    tf.nn.softmax_cross_entropy_with_logits(logits=logits, labels=tf_train_labels))\n",
    "\n",
    "  # ZADANIE:\n",
    "  # jak wyzej, dodaj do loss komponent regularyzujacy L2, jako sume L2 z obydwu zbiorow wag weights_*\n",
    "  # pamietaj o przemnozeniu przez parametr beta\n",
    "  loss += None\n",
    "  \n",
    "  # Optimizer.\n",
    "  optimizer = tf.train.GradientDescentOptimizer(learning_rate).minimize(loss)\n",
    "  \n",
    "  # Predictions for the training, validation, and test data.\n",
    "  train_prediction = tf.nn.softmax(logits)\n",
    "  test_prediction = tf.nn.softmax(forward_prop(tf_test_dataset))"
   ]
  },
  {
   "cell_type": "markdown",
   "metadata": {},
   "source": [
    "#### Uczenie"
   ]
  },
  {
   "cell_type": "code",
   "execution_count": 228,
   "metadata": {},
   "outputs": [
    {
     "name": "stdout",
     "output_type": "stream",
     "text": [
      "Initialized\n",
      "Minibatch loss at step 0: 2221.077637\n",
      "Minibatch accuracy: 0.0%\n",
      "Test accuracy: 91.7%\n",
      "Minibatch loss at step 500: 476215.812500\n",
      "Minibatch accuracy: 100.0%\n",
      "Test accuracy: 100.0%\n",
      "Minibatch loss at step 1000: 106138.757812\n",
      "Minibatch accuracy: 93.8%\n",
      "Test accuracy: 100.0%\n",
      "Minibatch loss at step 1500: 23656.033203\n",
      "Minibatch accuracy: 100.0%\n",
      "Test accuracy: 100.0%\n",
      "Minibatch loss at step 2000: 5273.715820\n",
      "Minibatch accuracy: 87.5%\n",
      "Test accuracy: 96.7%\n",
      "Minibatch loss at step 2500: 1175.853027\n",
      "Minibatch accuracy: 71.9%\n",
      "Test accuracy: 95.0%\n",
      "Minibatch loss at step 3000: 262.543396\n",
      "Minibatch accuracy: 65.6%\n",
      "Test accuracy: 98.3%\n",
      "Minibatch loss at step 3500: 58.937382\n",
      "Minibatch accuracy: 68.8%\n",
      "Test accuracy: 96.7%\n",
      "Minibatch loss at step 4000: 13.515789\n",
      "Minibatch accuracy: 71.9%\n",
      "Test accuracy: 96.7%\n"
     ]
    }
   ],
   "source": [
    "#train_dataset_restricted = X_train[:600, :]\n",
    "#train_labels_restricted = Y_train[:600, :]\n",
    "\n",
    "num_steps = 4001\n",
    "\n",
    "with tf.Session(graph=graph) as session:\n",
    "  tf.global_variables_initializer().run()\n",
    "  print(\"Initialized\")\n",
    "  for step in range(num_steps):\n",
    "    # wybierz offset w danych treningowych\n",
    "    offset = (step * batch_size) % (Y_train.shape[0] - batch_size)\n",
    "    # wygeneruj minibatch.\n",
    "    batch_data = X_train[offset:(offset + batch_size), :]\n",
    "    batch_labels = Y_train[offset:(offset + batch_size), :]\n",
    "\n",
    "    # ZADANIE:\n",
    "    # zaimplementuj dwa slowniki feed_dict obslugujace dropout\n",
    "    # uwzglednij Placeholder przechowujacy prawdopodobienstwo pozostawienia wagi z modelu powyzej\n",
    "    # w trybie forward nie chcemy tracic zadnych wag (uwzglednij odpowiednio w parametrze keep_prob!)\n",
    "    # w trybie uczacym, ustaw prawdopodobienstwo pozostawienia wagi na 0.5\n",
    "    feed_dict = None\n",
    "    feed_dict_w_drop = None\n",
    "    \n",
    "    # ZADANIE:\n",
    "    # uruchamiajac trening, podaj wlasciwy slownik zawierajacy prawdopodobienstwo pozostawienia wagi \n",
    "    # odpowiednie dla trybu forward\n",
    "    _, l, predictions = session.run(  [optimizer, loss, train_prediction], feed_dict=None)\n",
    "    if (step % 500 == 0):\n",
    "      print(\"Minibatch loss at step %d: %f\" % (step, l))\n",
    "      print(\"Minibatch accuracy: %.1f%%\" % accuracy(predictions, batch_labels))\n",
    "      print(\"Test accuracy: %.1f%%\" % accuracy(test_prediction.eval(feed_dict=feed_dict), Y_test))"
   ]
  },
  {
   "cell_type": "markdown",
   "metadata": {},
   "source": [
    "##### "
   ]
  },
  {
   "cell_type": "markdown",
   "metadata": {
    "collapsed": true
   },
   "source": [
    "## Zadanie pierwsze - tuning\n",
    "\n",
    "#### 1. przetestuj na obu sieciach następujące zakresy hiper-arametrów:\n",
    "\n",
    "batch_size = [8, 64, 128]\n",
    "\n",
    "learning_rate = [0.2, 0.5, 1.0, 1.2]\n",
    "\n",
    "beta = [0.0005, 0.005, 0.05]\n",
    "\n",
    "Zapamietaj najlepszą kombinację parametrów!\n",
    "\n",
    "#### 2. załaduj cały zbiór danych, nie tylko cyfry 0, 1\n",
    "\n",
    "- Jak zmieniły się wyniki?\n",
    "\n",
    "- Spróbuj powiększyć i pomniejszyć zbiór wag warstw ukrytych (hidden_nodes) - jak zmieniły się wyniki?"
   ]
  },
  {
   "cell_type": "markdown",
   "metadata": {
    "collapsed": true
   },
   "source": [
    "## Zadanie drugie - Tensorboard\n",
    "\n",
    "Skopiuj do osobnych komórek zawartość Model i Uczenie powyżej. Dodaj do modelu i uczenia logowanie Tensorboard.\n",
    "\n",
    "https://www.tensorflow.org/get_started/summaries_and_tensorboard\n",
    "\n",
    "Dodaj do modelu sieci neuronowej logowanie czterech wartości: loss, loss po L2, accuracy na zbiorze testowym, accuracy na zbiorze uczącym.\n",
    "\n",
    "Wyświetl wykresy tych zmiennych.\n",
    "\n",
    "Wyświetl graf obliczeniowy."
   ]
  },
  {
   "cell_type": "code",
   "execution_count": null,
   "metadata": {
    "collapsed": true
   },
   "outputs": [],
   "source": []
  }
 ],
 "metadata": {
  "kernelspec": {
   "display_name": "Python 3",
   "language": "python",
   "name": "python3"
  },
  "language_info": {
   "codemirror_mode": {
    "name": "ipython",
    "version": 3
   },
   "file_extension": ".py",
   "mimetype": "text/x-python",
   "name": "python",
   "nbconvert_exporter": "python",
   "pygments_lexer": "ipython3",
   "version": "3.6.8"
  }
 },
 "nbformat": 4,
 "nbformat_minor": 2
}
