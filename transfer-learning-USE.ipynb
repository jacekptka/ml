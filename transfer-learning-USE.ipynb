{
 "cells": [
  {
   "cell_type": "markdown",
   "metadata": {},
   "source": [
    "### Praca z tekstem: Universal Sentence Encoder\n",
    "\n",
    "Universal Sentence Encoder enkoduje tekst w wysokiej jakości wektory, które można wykorzystać do klasyfikacji tekstu, podobieństwa semantycznego, grupowania i innych zadań w przetwarzaniu języka naturalnego.\n",
    "\n",
    "Model jest trenowany i zoptymalizowany pod kątem tekstu o długości większej niż słowo, takiego jak zdania, frazy lub krótkie akapity. Jest trenowany na różnych źródłach danych i różnorodnych zadaniach w celu dynamicznego dostosowania się do różnorodnych zadań związanych z rozumieniem języka naturalnego. Wejście to angielski tekst o zmiennej długości, a wyjście to 512-wymiarowy wektor. \n",
    "\n",
    "Więcej informacji na temat osadzania tekstu można znaleźć w dokumentacji TensorFlow Embeddings. Nasz koder różni się od modeli tworzących wektory zanurzeń (embeddings) na poziomie słów tym, że trenujemy na wielu zadaniach języka naturalnego, które wymagają modelowania znaczenia sekwencji słów, a nie tylko pojedynczych słów. Szczegóły są dostępne w artykule „Universal Sentence Encoder”.\n",
    "\n",
    "Prykład z klasyfikacją:\n",
    "<img src=\"images/example-classification.png\">\n",
    "\n",
    "Przykład z podobieństwem semantycznym:\n",
    "<img src=\"images/example-similarity.png\">\n",
    "\n",
    "Więcej informacji: https://tfhub.dev/google/universal-sentence-encoder/1"
   ]
  },
  {
   "cell_type": "markdown",
   "metadata": {},
   "source": [
    "W przypadku problemów można próbować ściągnąć model lokalnie:\n",
    "    https://www.tensorflow.org/hub/common_issues"
   ]
  },
  {
   "cell_type": "code",
   "execution_count": 1,
   "metadata": {},
   "outputs": [
    {
     "name": "stderr",
     "output_type": "stream",
     "text": [
      "WARNING: Logging before flag parsing goes to stderr.\n",
      "W0511 11:38:26.177261 140536807585600 __init__.py:56] Some hub symbols are not available because TensorFlow version is less than 1.14\n"
     ]
    }
   ],
   "source": [
    "import tensorflow as tf\n",
    "import tensorflow_hub as hub\n",
    "#"
   ]
  },
  {
   "cell_type": "code",
   "execution_count": 2,
   "metadata": {},
   "outputs": [
    {
     "name": "stdout",
     "output_type": "stream",
     "text": [
      "WARNING:tensorflow:From /opt/anaconda3/lib/python3.6/site-packages/tensorflow/python/ops/control_flow_ops.py:3632: colocate_with (from tensorflow.python.framework.ops) is deprecated and will be removed in a future version.\n",
      "Instructions for updating:\n",
      "Colocations handled automatically by placer.\n"
     ]
    },
    {
     "name": "stderr",
     "output_type": "stream",
     "text": [
      "W0511 11:39:37.623933 140536807585600 deprecation.py:323] From /opt/anaconda3/lib/python3.6/site-packages/tensorflow/python/ops/control_flow_ops.py:3632: colocate_with (from tensorflow.python.framework.ops) is deprecated and will be removed in a future version.\n",
      "Instructions for updating:\n",
      "Colocations handled automatically by placer.\n"
     ]
    }
   ],
   "source": [
    "module_url = \"https://tfhub.dev/google/universal-sentence-encoder/2\" \n",
    "import os\n",
    "import tensorflow_hub as hub\n",
    "\n",
    "use = hub.Module(module_url)\n",
    "#use = hub.Module(\"/Users/aleks/tf_cache\")"
   ]
  },
  {
   "cell_type": "code",
   "execution_count": 3,
   "metadata": {},
   "outputs": [],
   "source": [
    "import pandas as pd\n",
    "from sklearn.ensemble import RandomForestClassifier\n",
    "from sklearn.feature_extraction.text import TfidfVectorizer\n",
    "\n",
    "# ladowanie pliku z tweetami\n",
    "df = pd.read_csv('Tweets.csv')\n",
    "\n",
    "# usuniecie neutralnych tweetow\n",
    "df = df[df['airline_sentiment'] != 'neutral']\n",
    "len(df)\n",
    "X = df['text']\n",
    "Y = df['airline_sentiment']\n",
    "\n",
    "X_train = X[:7000]\n",
    "X_validate = X[7000:9000]\n",
    "X_test = X[9000:]\n",
    "\n",
    "\n",
    "Y_train = Y[:7000]\n",
    "Y_validate = Y[7000:9000]\n",
    "Y_test = Y[9000:]\n",
    "\n",
    "\n",
    "#podmiana negative i positive na 0/1:\n",
    "Y = Y.map({'negative': 0, 'positive': 1}).values\n",
    "\n"
   ]
  },
  {
   "cell_type": "markdown",
   "metadata": {},
   "source": [
    "Model USE można wywoływać bezpośrednio na liście napisów:"
   ]
  },
  {
   "cell_type": "code",
   "execution_count": 8,
   "metadata": {},
   "outputs": [
    {
     "name": "stdout",
     "output_type": "stream",
     "text": [
      "INFO:tensorflow:Saver not created because there are no variables in the graph to restore\n"
     ]
    },
    {
     "name": "stderr",
     "output_type": "stream",
     "text": [
      "I0511 13:04:35.696177 140536807585600 saver.py:1483] Saver not created because there are no variables in the graph to restore\n"
     ]
    }
   ],
   "source": [
    "embeddings =  use([\"The quick brown fox jumps over the lazy dog.\"])"
   ]
  },
  {
   "cell_type": "code",
   "execution_count": 10,
   "metadata": {},
   "outputs": [
    {
     "name": "stdout",
     "output_type": "stream",
     "text": [
      "<class 'tensorflow.python.framework.ops.Tensor'>\n"
     ]
    }
   ],
   "source": [
    "embeddings.shape\n"
   ]
  },
  {
   "cell_type": "markdown",
   "metadata": {},
   "source": [
    "ĆWICZENIA:\n",
    "\n",
    "1. Wygeneruj wektory USE dla każdego tweeta z poprzednich laboratoriów\n",
    "\n",
    "\n",
    "2. Wykorzystując wektory USE jako reprezentację tweetów, spróbuj klasyfikacji siecią Dense w Kerasie\n",
    "\n",
    "\n",
    "3. Wykorzystując wektory USE jako reprezentację tweetów, spróbuj klasyfikacji metodą SVM z pakietu scikit-learn"
   ]
  },
  {
   "cell_type": "code",
   "execution_count": 79,
   "metadata": {},
   "outputs": [
    {
     "name": "stdout",
     "output_type": "stream",
     "text": [
      "1        @VirginAmerica plus you've added commercials t...\n",
      "3        @VirginAmerica it's really aggressive to blast...\n",
      "4        @VirginAmerica and it's a really big bad thing...\n",
      "5        @VirginAmerica seriously would pay $30 a fligh...\n",
      "6        @VirginAmerica yes, nearly every time I fly VX...\n",
      "8          @virginamerica Well, I didn't…but NOW I DO! :-D\n",
      "9        @VirginAmerica it was amazing, and arrived an ...\n",
      "11       @VirginAmerica I &lt;3 pretty graphics. so muc...\n",
      "12       @VirginAmerica This is such a great deal! Alre...\n",
      "13       @VirginAmerica @virginmedia I'm flying your #f...\n",
      "14                                  @VirginAmerica Thanks!\n",
      "15           @VirginAmerica SFO-PDX schedule is still MIA.\n",
      "16       @VirginAmerica So excited for my first cross c...\n",
      "17       @VirginAmerica  I flew from NYC to SFO last we...\n",
      "18                         I ❤️ flying @VirginAmerica. ☺️👍\n",
      "19       @VirginAmerica you know what would be amazingl...\n",
      "20       @VirginAmerica why are your first fares in May...\n",
      "21       @VirginAmerica I love this graphic. http://t.c...\n",
      "22       @VirginAmerica I love the hipster innovation. ...\n",
      "24       @VirginAmerica you guys messed up my seating.....\n",
      "25       @VirginAmerica status match program.  I applie...\n",
      "26       @VirginAmerica What happened 2 ur vegan food o...\n",
      "28       @VirginAmerica amazing to me that we can't get...\n",
      "30       @VirginAmerica hi! I just bked a cool birthday...\n",
      "32       @VirginAmerica help, left expensive headphones...\n",
      "33       @VirginAmerica awaiting my return phone call, ...\n",
      "34       @VirginAmerica this is great news!  America co...\n",
      "36       @VirginAmerica Moodlighting is the only way to...\n",
      "37       @VirginAmerica @freddieawards Done and done! B...\n",
      "39       @VirginAmerica Your chat support is not workin...\n",
      "                               ...                        \n",
      "14605    @AmericanAir trying to book a flight on hold- ...\n",
      "14606    @AmericanAir Cancelled Flights flights arbitra...\n",
      "14608    @AmericanAir my flight was Cancelled Flightled...\n",
      "14609    @AmericanAir &amp; if that wasn't enough, your...\n",
      "14610    @AmericanAir I understand the weather issue bu...\n",
      "14612    @AmericanAir a friend is having flight Cancell...\n",
      "14613    @AmericanAir I used the \"call back\" feature wi...\n",
      "14614    @AmericanAir I need to be at work tomorrow at ...\n",
      "14615    @AmericanAir  ugh Dump us in dfw w/no luggage ...\n",
      "14616    @AmericanAir Cancelled Flights my flight, does...\n",
      "14617              @AmericanAir DMing you now! Big thanks.\n",
      "14618    @AmericanAir 3078 is overweight so you pull 2 ...\n",
      "14619    @AmericanAir I love your company and your staf...\n",
      "14620    @AmericanAir I wait 2+ hrs for CS to call me b...\n",
      "14621    @AmericanAir I've been on hold for 55 mins abo...\n",
      "14622    I just need a place to sleep when I land witho...\n",
      "14623    @AmericanAir Love the new planes for the JFK-L...\n",
      "14624    @AmericanAir Call me Chairman, or call me Emer...\n",
      "14625    @AmericanAir Flight 236 was great. Fantastic c...\n",
      "14626    @AmericanAir Flight 953 NYC-Buenos Aires has b...\n",
      "14627    @AmericanAir Flight Cancelled Flightled, can't...\n",
      "14628    Thank you. “@AmericanAir: @jlhalldc Customer R...\n",
      "14629    @AmericanAir How do I change my flight if the ...\n",
      "14630                          @AmericanAir Thanks! He is.\n",
      "14631    @AmericanAir thx for nothing on getting us out...\n",
      "14633    @AmericanAir my flight was Cancelled Flightled...\n",
      "14634           @AmericanAir right on cue with the delays👌\n",
      "14635    @AmericanAir thank you we got on a different f...\n",
      "14636    @AmericanAir leaving over 20 minutes Late Flig...\n",
      "14638    @AmericanAir you have my money, you change my ...\n",
      "Name: text, Length: 11541, dtype: object\n"
     ]
    }
   ],
   "source": [
    "#print(df.count())\n",
    "#for i in range(1, max(df.tweet_id)):\n",
    "#    print(df.text[i])\n",
    "    \n",
    "#sentence = df.text[1]\n",
    "#sentence = \"Some sentence\"\n",
    "\n",
    "\n",
    "print(df.text)\n",
    "\n"
   ]
  },
  {
   "cell_type": "code",
   "execution_count": 82,
   "metadata": {},
   "outputs": [
    {
     "ename": "TypeError",
     "evalue": "Can't convert 'text': Expected string, got 1        @VirginAmerica plus you've added commercials t...\n3        @VirginAmerica it's really aggressive to blast...\n4        @VirginAmerica and it's a really big bad thing...\n5        @VirginAmerica seriously would pay $30 a fligh...\n6        @VirginAmerica yes, nearly every time I fly VX...\n8          @virginamerica Well, I didn't…but NOW I DO! :-D\n9        @VirginAmerica it was amazing, and arrived an ...\n11       @VirginAmerica I &lt;3 pretty graphics. so muc...\n12       @VirginAmerica This is such a great deal! Alre...\n13       @VirginAmerica @virginmedia I'm flying your #f...\n14                                  @VirginAmerica Thanks!\n15           @VirginAmerica SFO-PDX schedule is still MIA.\n16       @VirginAmerica So excited for my first cross c...\n17       @VirginAmerica  I flew from NYC to SFO last we...\n18                         I ❤️ flying @VirginAmerica. ☺️👍\n19       @VirginAmerica you know what would be amazingl...\n20       @VirginAmerica why are your first fares in May...\n21       @VirginAmerica I love this graphic. http://t.c...\n22       @VirginAmerica I love the hipster innovation. ...\n24       @VirginAmerica you guys messed up my seating.....\n25       @VirginAmerica status match program.  I applie...\n26       @VirginAmerica What happened 2 ur vegan food o...\n28       @VirginAmerica amazing to me that we can't get...\n30       @VirginAmerica hi! I just bked a cool birthday...\n32       @VirginAmerica help, left expensive headphones...\n33       @VirginAmerica awaiting my return phone call, ...\n34       @VirginAmerica this is great news!  America co...\n36       @VirginAmerica Moodlighting is the only way to...\n37       @VirginAmerica @freddieawards Done and done! B...\n39       @VirginAmerica Your chat support is not workin...\n                               ...                        \n14605    @AmericanAir trying to book a flight on hold- ...\n14606    @AmericanAir Cancelled Flights flights arbitra...\n14608    @AmericanAir my flight was Cancelled Flightled...\n14609    @AmericanAir &amp; if that wasn't enough, your...\n14610    @AmericanAir I understand the weather issue bu...\n14612    @AmericanAir a friend is having flight Cancell...\n14613    @AmericanAir I used the \"call back\" feature wi...\n14614    @AmericanAir I need to be at work tomorrow at ...\n14615    @AmericanAir  ugh Dump us in dfw w/no luggage ...\n14616    @AmericanAir Cancelled Flights my flight, does...\n14617              @AmericanAir DMing you now! Big thanks.\n14618    @AmericanAir 3078 is overweight so you pull 2 ...\n14619    @AmericanAir I love your company and your staf...\n14620    @AmericanAir I wait 2+ hrs for CS to call me b...\n14621    @AmericanAir I've been on hold for 55 mins abo...\n14622    I just need a place to sleep when I land witho...\n14623    @AmericanAir Love the new planes for the JFK-L...\n14624    @AmericanAir Call me Chairman, or call me Emer...\n14625    @AmericanAir Flight 236 was great. Fantastic c...\n14626    @AmericanAir Flight 953 NYC-Buenos Aires has b...\n14627    @AmericanAir Flight Cancelled Flightled, can't...\n14628    Thank you. “@AmericanAir: @jlhalldc Customer R...\n14629    @AmericanAir How do I change my flight if the ...\n14630                          @AmericanAir Thanks! He is.\n14631    @AmericanAir thx for nothing on getting us out...\n14633    @AmericanAir my flight was Cancelled Flightled...\n14634           @AmericanAir right on cue with the delays👌\n14635    @AmericanAir thank you we got on a different f...\n14636    @AmericanAir leaving over 20 minutes Late Flig...\n14638    @AmericanAir you have my money, you change my ...\nName: text, Length: 11541, dtype: object of type 'Series' instead.",
     "output_type": "error",
     "traceback": [
      "\u001b[0;31m---------------------------------------------------------------------------\u001b[0m",
      "\u001b[0;31mTypeError\u001b[0m                                 Traceback (most recent call last)",
      "\u001b[0;32m/opt/anaconda3/lib/python3.6/site-packages/tensorflow_hub/tensor_info.py\u001b[0m in \u001b[0;36m_convert_to_compatible_tensor\u001b[0;34m(value, target, error_prefix)\u001b[0m\n\u001b[1;32m    118\u001b[0m   \u001b[0;32mtry\u001b[0m\u001b[0;34m:\u001b[0m\u001b[0;34m\u001b[0m\u001b[0;34m\u001b[0m\u001b[0m\n\u001b[0;32m--> 119\u001b[0;31m     \u001b[0mtensor\u001b[0m \u001b[0;34m=\u001b[0m \u001b[0mtf_v1\u001b[0m\u001b[0;34m.\u001b[0m\u001b[0mconvert_to_tensor_or_indexed_slices\u001b[0m\u001b[0;34m(\u001b[0m\u001b[0mvalue\u001b[0m\u001b[0;34m,\u001b[0m \u001b[0mtarget\u001b[0m\u001b[0;34m.\u001b[0m\u001b[0mdtype\u001b[0m\u001b[0;34m)\u001b[0m\u001b[0;34m\u001b[0m\u001b[0;34m\u001b[0m\u001b[0m\n\u001b[0m\u001b[1;32m    120\u001b[0m   \u001b[0;32mexcept\u001b[0m \u001b[0mTypeError\u001b[0m \u001b[0;32mas\u001b[0m \u001b[0me\u001b[0m\u001b[0;34m:\u001b[0m\u001b[0;34m\u001b[0m\u001b[0;34m\u001b[0m\u001b[0m\n",
      "\u001b[0;32m/opt/anaconda3/lib/python3.6/site-packages/tensorflow/python/framework/ops.py\u001b[0m in \u001b[0;36mconvert_to_tensor_or_indexed_slices\u001b[0;34m(value, dtype, name)\u001b[0m\n\u001b[1;32m   1297\u001b[0m   return internal_convert_to_tensor_or_indexed_slices(\n\u001b[0;32m-> 1298\u001b[0;31m       value=value, dtype=dtype, name=name, as_ref=False)\n\u001b[0m\u001b[1;32m   1299\u001b[0m \u001b[0;34m\u001b[0m\u001b[0m\n",
      "\u001b[0;32m/opt/anaconda3/lib/python3.6/site-packages/tensorflow/python/framework/ops.py\u001b[0m in \u001b[0;36minternal_convert_to_tensor_or_indexed_slices\u001b[0;34m(value, dtype, name, as_ref)\u001b[0m\n\u001b[1;32m   1335\u001b[0m     return internal_convert_to_tensor(\n\u001b[0;32m-> 1336\u001b[0;31m         value, dtype=dtype, name=name, as_ref=as_ref)\n\u001b[0m\u001b[1;32m   1337\u001b[0m \u001b[0;34m\u001b[0m\u001b[0m\n",
      "\u001b[0;32m/opt/anaconda3/lib/python3.6/site-packages/tensorflow/python/framework/ops.py\u001b[0m in \u001b[0;36minternal_convert_to_tensor\u001b[0;34m(value, dtype, name, as_ref, preferred_dtype, ctx, accept_symbolic_tensors)\u001b[0m\n\u001b[1;32m   1174\u001b[0m     \u001b[0;32mif\u001b[0m \u001b[0mret\u001b[0m \u001b[0;32mis\u001b[0m \u001b[0;32mNone\u001b[0m\u001b[0;34m:\u001b[0m\u001b[0;34m\u001b[0m\u001b[0;34m\u001b[0m\u001b[0m\n\u001b[0;32m-> 1175\u001b[0;31m       \u001b[0mret\u001b[0m \u001b[0;34m=\u001b[0m \u001b[0mconversion_func\u001b[0m\u001b[0;34m(\u001b[0m\u001b[0mvalue\u001b[0m\u001b[0;34m,\u001b[0m \u001b[0mdtype\u001b[0m\u001b[0;34m=\u001b[0m\u001b[0mdtype\u001b[0m\u001b[0;34m,\u001b[0m \u001b[0mname\u001b[0m\u001b[0;34m=\u001b[0m\u001b[0mname\u001b[0m\u001b[0;34m,\u001b[0m \u001b[0mas_ref\u001b[0m\u001b[0;34m=\u001b[0m\u001b[0mas_ref\u001b[0m\u001b[0;34m)\u001b[0m\u001b[0;34m\u001b[0m\u001b[0;34m\u001b[0m\u001b[0m\n\u001b[0m\u001b[1;32m   1176\u001b[0m \u001b[0;34m\u001b[0m\u001b[0m\n",
      "\u001b[0;32m/opt/anaconda3/lib/python3.6/site-packages/tensorflow/python/framework/constant_op.py\u001b[0m in \u001b[0;36m_constant_tensor_conversion_function\u001b[0;34m(v, dtype, name, as_ref)\u001b[0m\n\u001b[1;32m    303\u001b[0m   \u001b[0m_\u001b[0m \u001b[0;34m=\u001b[0m \u001b[0mas_ref\u001b[0m\u001b[0;34m\u001b[0m\u001b[0;34m\u001b[0m\u001b[0m\n\u001b[0;32m--> 304\u001b[0;31m   \u001b[0;32mreturn\u001b[0m \u001b[0mconstant\u001b[0m\u001b[0;34m(\u001b[0m\u001b[0mv\u001b[0m\u001b[0;34m,\u001b[0m \u001b[0mdtype\u001b[0m\u001b[0;34m=\u001b[0m\u001b[0mdtype\u001b[0m\u001b[0;34m,\u001b[0m \u001b[0mname\u001b[0m\u001b[0;34m=\u001b[0m\u001b[0mname\u001b[0m\u001b[0;34m)\u001b[0m\u001b[0;34m\u001b[0m\u001b[0;34m\u001b[0m\u001b[0m\n\u001b[0m\u001b[1;32m    305\u001b[0m \u001b[0;34m\u001b[0m\u001b[0m\n",
      "\u001b[0;32m/opt/anaconda3/lib/python3.6/site-packages/tensorflow/python/framework/constant_op.py\u001b[0m in \u001b[0;36mconstant\u001b[0;34m(value, dtype, shape, name)\u001b[0m\n\u001b[1;32m    244\u001b[0m   return _constant_impl(value, dtype, shape, name, verify_shape=False,\n\u001b[0;32m--> 245\u001b[0;31m                         allow_broadcast=True)\n\u001b[0m\u001b[1;32m    246\u001b[0m \u001b[0;34m\u001b[0m\u001b[0m\n",
      "\u001b[0;32m/opt/anaconda3/lib/python3.6/site-packages/tensorflow/python/framework/constant_op.py\u001b[0m in \u001b[0;36m_constant_impl\u001b[0;34m(value, dtype, shape, name, verify_shape, allow_broadcast)\u001b[0m\n\u001b[1;32m    282\u001b[0m           \u001b[0mvalue\u001b[0m\u001b[0;34m,\u001b[0m \u001b[0mdtype\u001b[0m\u001b[0;34m=\u001b[0m\u001b[0mdtype\u001b[0m\u001b[0;34m,\u001b[0m \u001b[0mshape\u001b[0m\u001b[0;34m=\u001b[0m\u001b[0mshape\u001b[0m\u001b[0;34m,\u001b[0m \u001b[0mverify_shape\u001b[0m\u001b[0;34m=\u001b[0m\u001b[0mverify_shape\u001b[0m\u001b[0;34m,\u001b[0m\u001b[0;34m\u001b[0m\u001b[0;34m\u001b[0m\u001b[0m\n\u001b[0;32m--> 283\u001b[0;31m           allow_broadcast=allow_broadcast))\n\u001b[0m\u001b[1;32m    284\u001b[0m   \u001b[0mdtype_value\u001b[0m \u001b[0;34m=\u001b[0m \u001b[0mattr_value_pb2\u001b[0m\u001b[0;34m.\u001b[0m\u001b[0mAttrValue\u001b[0m\u001b[0;34m(\u001b[0m\u001b[0mtype\u001b[0m\u001b[0;34m=\u001b[0m\u001b[0mtensor_value\u001b[0m\u001b[0;34m.\u001b[0m\u001b[0mtensor\u001b[0m\u001b[0;34m.\u001b[0m\u001b[0mdtype\u001b[0m\u001b[0;34m)\u001b[0m\u001b[0;34m\u001b[0m\u001b[0;34m\u001b[0m\u001b[0m\n",
      "\u001b[0;32m/opt/anaconda3/lib/python3.6/site-packages/tensorflow/python/framework/tensor_util.py\u001b[0m in \u001b[0;36mmake_tensor_proto\u001b[0;34m(values, dtype, shape, verify_shape, allow_broadcast)\u001b[0m\n\u001b[1;32m    465\u001b[0m     \u001b[0;32melse\u001b[0m\u001b[0;34m:\u001b[0m\u001b[0;34m\u001b[0m\u001b[0;34m\u001b[0m\u001b[0m\n\u001b[0;32m--> 466\u001b[0;31m       \u001b[0m_AssertCompatible\u001b[0m\u001b[0;34m(\u001b[0m\u001b[0mvalues\u001b[0m\u001b[0;34m,\u001b[0m \u001b[0mdtype\u001b[0m\u001b[0;34m)\u001b[0m\u001b[0;34m\u001b[0m\u001b[0;34m\u001b[0m\u001b[0m\n\u001b[0m\u001b[1;32m    467\u001b[0m       \u001b[0mnparray\u001b[0m \u001b[0;34m=\u001b[0m \u001b[0mnp\u001b[0m\u001b[0;34m.\u001b[0m\u001b[0marray\u001b[0m\u001b[0;34m(\u001b[0m\u001b[0mvalues\u001b[0m\u001b[0;34m,\u001b[0m \u001b[0mdtype\u001b[0m\u001b[0;34m=\u001b[0m\u001b[0mnp_dt\u001b[0m\u001b[0;34m)\u001b[0m\u001b[0;34m\u001b[0m\u001b[0;34m\u001b[0m\u001b[0m\n",
      "\u001b[0;32m/opt/anaconda3/lib/python3.6/site-packages/tensorflow/python/framework/tensor_util.py\u001b[0m in \u001b[0;36m_AssertCompatible\u001b[0;34m(values, dtype)\u001b[0m\n\u001b[1;32m    370\u001b[0m       raise TypeError(\"Expected %s, got %s of type '%s' instead.\" %\n\u001b[0;32m--> 371\u001b[0;31m                       (dtype.name, repr(mismatch), type(mismatch).__name__))\n\u001b[0m\u001b[1;32m    372\u001b[0m \u001b[0;34m\u001b[0m\u001b[0m\n",
      "\u001b[0;31mTypeError\u001b[0m: Expected string, got 1        @VirginAmerica plus you've added commercials t...\n3        @VirginAmerica it's really aggressive to blast...\n4        @VirginAmerica and it's a really big bad thing...\n5        @VirginAmerica seriously would pay $30 a fligh...\n6        @VirginAmerica yes, nearly every time I fly VX...\n8          @virginamerica Well, I didn't…but NOW I DO! :-D\n9        @VirginAmerica it was amazing, and arrived an ...\n11       @VirginAmerica I &lt;3 pretty graphics. so muc...\n12       @VirginAmerica This is such a great deal! Alre...\n13       @VirginAmerica @virginmedia I'm flying your #f...\n14                                  @VirginAmerica Thanks!\n15           @VirginAmerica SFO-PDX schedule is still MIA.\n16       @VirginAmerica So excited for my first cross c...\n17       @VirginAmerica  I flew from NYC to SFO last we...\n18                         I ❤️ flying @VirginAmerica. ☺️👍\n19       @VirginAmerica you know what would be amazingl...\n20       @VirginAmerica why are your first fares in May...\n21       @VirginAmerica I love this graphic. http://t.c...\n22       @VirginAmerica I love the hipster innovation. ...\n24       @VirginAmerica you guys messed up my seating.....\n25       @VirginAmerica status match program.  I applie...\n26       @VirginAmerica What happened 2 ur vegan food o...\n28       @VirginAmerica amazing to me that we can't get...\n30       @VirginAmerica hi! I just bked a cool birthday...\n32       @VirginAmerica help, left expensive headphones...\n33       @VirginAmerica awaiting my return phone call, ...\n34       @VirginAmerica this is great news!  America co...\n36       @VirginAmerica Moodlighting is the only way to...\n37       @VirginAmerica @freddieawards Done and done! B...\n39       @VirginAmerica Your chat support is not workin...\n                               ...                        \n14605    @AmericanAir trying to book a flight on hold- ...\n14606    @AmericanAir Cancelled Flights flights arbitra...\n14608    @AmericanAir my flight was Cancelled Flightled...\n14609    @AmericanAir &amp; if that wasn't enough, your...\n14610    @AmericanAir I understand the weather issue bu...\n14612    @AmericanAir a friend is having flight Cancell...\n14613    @AmericanAir I used the \"call back\" feature wi...\n14614    @AmericanAir I need to be at work tomorrow at ...\n14615    @AmericanAir  ugh Dump us in dfw w/no luggage ...\n14616    @AmericanAir Cancelled Flights my flight, does...\n14617              @AmericanAir DMing you now! Big thanks.\n14618    @AmericanAir 3078 is overweight so you pull 2 ...\n14619    @AmericanAir I love your company and your staf...\n14620    @AmericanAir I wait 2+ hrs for CS to call me b...\n14621    @AmericanAir I've been on hold for 55 mins abo...\n14622    I just need a place to sleep when I land witho...\n14623    @AmericanAir Love the new planes for the JFK-L...\n14624    @AmericanAir Call me Chairman, or call me Emer...\n14625    @AmericanAir Flight 236 was great. Fantastic c...\n14626    @AmericanAir Flight 953 NYC-Buenos Aires has b...\n14627    @AmericanAir Flight Cancelled Flightled, can't...\n14628    Thank you. “@AmericanAir: @jlhalldc Customer R...\n14629    @AmericanAir How do I change my flight if the ...\n14630                          @AmericanAir Thanks! He is.\n14631    @AmericanAir thx for nothing on getting us out...\n14633    @AmericanAir my flight was Cancelled Flightled...\n14634           @AmericanAir right on cue with the delays👌\n14635    @AmericanAir thank you we got on a different f...\n14636    @AmericanAir leaving over 20 minutes Late Flig...\n14638    @AmericanAir you have my money, you change my ...\nName: text, Length: 11541, dtype: object of type 'Series' instead.",
      "\nDuring handling of the above exception, another exception occurred:\n",
      "\u001b[0;31mTypeError\u001b[0m                                 Traceback (most recent call last)",
      "\u001b[0;32m<ipython-input-82-e43e2f997c50>\u001b[0m in \u001b[0;36m<module>\u001b[0;34m\u001b[0m\n\u001b[1;32m      1\u001b[0m \u001b[0;32mwith\u001b[0m \u001b[0mtf\u001b[0m\u001b[0;34m.\u001b[0m\u001b[0mSession\u001b[0m\u001b[0;34m(\u001b[0m\u001b[0;34m)\u001b[0m \u001b[0;32mas\u001b[0m \u001b[0msess\u001b[0m\u001b[0;34m:\u001b[0m\u001b[0;34m\u001b[0m\u001b[0;34m\u001b[0m\u001b[0m\n\u001b[1;32m      2\u001b[0m     \u001b[0msess\u001b[0m\u001b[0;34m.\u001b[0m\u001b[0mrun\u001b[0m\u001b[0;34m(\u001b[0m\u001b[0;34m[\u001b[0m\u001b[0mtf\u001b[0m\u001b[0;34m.\u001b[0m\u001b[0mglobal_variables_initializer\u001b[0m\u001b[0;34m(\u001b[0m\u001b[0;34m)\u001b[0m\u001b[0;34m,\u001b[0m \u001b[0mtf\u001b[0m\u001b[0;34m.\u001b[0m\u001b[0mtables_initializer\u001b[0m\u001b[0;34m(\u001b[0m\u001b[0;34m)\u001b[0m\u001b[0;34m]\u001b[0m\u001b[0;34m)\u001b[0m\u001b[0;34m\u001b[0m\u001b[0;34m\u001b[0m\u001b[0m\n\u001b[0;32m----> 3\u001b[0;31m     \u001b[0membedding_zdania\u001b[0m \u001b[0;34m=\u001b[0m \u001b[0msess\u001b[0m\u001b[0;34m.\u001b[0m\u001b[0mrun\u001b[0m\u001b[0;34m(\u001b[0m\u001b[0muse\u001b[0m\u001b[0;34m(\u001b[0m\u001b[0;34m[\u001b[0m\u001b[0mdf\u001b[0m\u001b[0;34m.\u001b[0m\u001b[0mtext\u001b[0m\u001b[0;34m]\u001b[0m\u001b[0;34m)\u001b[0m\u001b[0;34m)\u001b[0m\u001b[0;34m\u001b[0m\u001b[0;34m\u001b[0m\u001b[0m\n\u001b[0m\u001b[1;32m      4\u001b[0m \u001b[0;34m\u001b[0m\u001b[0m\n\u001b[1;32m      5\u001b[0m     \u001b[0;31m#for i in range(11,22):\u001b[0m\u001b[0;34m\u001b[0m\u001b[0;34m\u001b[0m\u001b[0;34m\u001b[0m\u001b[0m\n",
      "\u001b[0;32m/opt/anaconda3/lib/python3.6/site-packages/tensorflow_hub/module.py\u001b[0m in \u001b[0;36m__call__\u001b[0;34m(self, inputs, _sentinel, signature, as_dict)\u001b[0m\n\u001b[1;32m    243\u001b[0m     dict_inputs = _convert_dict_inputs(\n\u001b[1;32m    244\u001b[0m         inputs, self._spec.get_input_info_dict(signature=signature,\n\u001b[0;32m--> 245\u001b[0;31m                                                tags=self._tags))\n\u001b[0m\u001b[1;32m    246\u001b[0m \u001b[0;34m\u001b[0m\u001b[0m\n\u001b[1;32m    247\u001b[0m     dict_outputs = self._impl.create_apply_graph(\n",
      "\u001b[0;32m/opt/anaconda3/lib/python3.6/site-packages/tensorflow_hub/module.py\u001b[0m in \u001b[0;36m_convert_dict_inputs\u001b[0;34m(inputs, tensor_info_map)\u001b[0m\n\u001b[1;32m    445\u001b[0m   \u001b[0mdict_inputs\u001b[0m \u001b[0;34m=\u001b[0m \u001b[0m_prepare_dict_inputs\u001b[0m\u001b[0;34m(\u001b[0m\u001b[0minputs\u001b[0m\u001b[0;34m,\u001b[0m \u001b[0mtensor_info_map\u001b[0m\u001b[0;34m)\u001b[0m\u001b[0;34m\u001b[0m\u001b[0;34m\u001b[0m\u001b[0m\n\u001b[1;32m    446\u001b[0m   return tensor_info.convert_dict_to_compatible_tensor(dict_inputs,\n\u001b[0;32m--> 447\u001b[0;31m                                                        tensor_info_map)\n\u001b[0m\u001b[1;32m    448\u001b[0m \u001b[0;34m\u001b[0m\u001b[0m\n\u001b[1;32m    449\u001b[0m \u001b[0;34m\u001b[0m\u001b[0m\n",
      "\u001b[0;32m/opt/anaconda3/lib/python3.6/site-packages/tensorflow_hub/tensor_info.py\u001b[0m in \u001b[0;36mconvert_dict_to_compatible_tensor\u001b[0;34m(values, targets)\u001b[0m\n\u001b[1;32m    148\u001b[0m   \u001b[0;32mfor\u001b[0m \u001b[0mkey\u001b[0m\u001b[0;34m,\u001b[0m \u001b[0mvalue\u001b[0m \u001b[0;32min\u001b[0m \u001b[0msorted\u001b[0m\u001b[0;34m(\u001b[0m\u001b[0mvalues\u001b[0m\u001b[0;34m.\u001b[0m\u001b[0mitems\u001b[0m\u001b[0;34m(\u001b[0m\u001b[0;34m)\u001b[0m\u001b[0;34m)\u001b[0m\u001b[0;34m:\u001b[0m\u001b[0;34m\u001b[0m\u001b[0;34m\u001b[0m\u001b[0m\n\u001b[1;32m    149\u001b[0m     result[key] = _convert_to_compatible_tensor(\n\u001b[0;32m--> 150\u001b[0;31m         value, targets[key], error_prefix=\"Can't convert %r\" % key)\n\u001b[0m\u001b[1;32m    151\u001b[0m   \u001b[0;32mreturn\u001b[0m \u001b[0mresult\u001b[0m\u001b[0;34m\u001b[0m\u001b[0;34m\u001b[0m\u001b[0m\n\u001b[1;32m    152\u001b[0m \u001b[0;34m\u001b[0m\u001b[0m\n",
      "\u001b[0;32m/opt/anaconda3/lib/python3.6/site-packages/tensorflow_hub/tensor_info.py\u001b[0m in \u001b[0;36m_convert_to_compatible_tensor\u001b[0;34m(value, target, error_prefix)\u001b[0m\n\u001b[1;32m    119\u001b[0m     \u001b[0mtensor\u001b[0m \u001b[0;34m=\u001b[0m \u001b[0mtf_v1\u001b[0m\u001b[0;34m.\u001b[0m\u001b[0mconvert_to_tensor_or_indexed_slices\u001b[0m\u001b[0;34m(\u001b[0m\u001b[0mvalue\u001b[0m\u001b[0;34m,\u001b[0m \u001b[0mtarget\u001b[0m\u001b[0;34m.\u001b[0m\u001b[0mdtype\u001b[0m\u001b[0;34m)\u001b[0m\u001b[0;34m\u001b[0m\u001b[0;34m\u001b[0m\u001b[0m\n\u001b[1;32m    120\u001b[0m   \u001b[0;32mexcept\u001b[0m \u001b[0mTypeError\u001b[0m \u001b[0;32mas\u001b[0m \u001b[0me\u001b[0m\u001b[0;34m:\u001b[0m\u001b[0;34m\u001b[0m\u001b[0;34m\u001b[0m\u001b[0m\n\u001b[0;32m--> 121\u001b[0;31m     \u001b[0;32mraise\u001b[0m \u001b[0mTypeError\u001b[0m\u001b[0;34m(\u001b[0m\u001b[0;34m\"%s: %s\"\u001b[0m \u001b[0;34m%\u001b[0m \u001b[0;34m(\u001b[0m\u001b[0merror_prefix\u001b[0m\u001b[0;34m,\u001b[0m \u001b[0me\u001b[0m\u001b[0;34m)\u001b[0m\u001b[0;34m)\u001b[0m\u001b[0;34m\u001b[0m\u001b[0;34m\u001b[0m\u001b[0m\n\u001b[0m\u001b[1;32m    122\u001b[0m   \u001b[0;32mif\u001b[0m \u001b[0m_is_sparse\u001b[0m\u001b[0;34m(\u001b[0m\u001b[0mtensor\u001b[0m\u001b[0;34m)\u001b[0m \u001b[0;34m!=\u001b[0m \u001b[0m_is_sparse\u001b[0m\u001b[0;34m(\u001b[0m\u001b[0mtarget\u001b[0m\u001b[0;34m)\u001b[0m\u001b[0;34m:\u001b[0m\u001b[0;34m\u001b[0m\u001b[0;34m\u001b[0m\u001b[0m\n\u001b[1;32m    123\u001b[0m     \u001b[0;32mif\u001b[0m \u001b[0m_is_sparse\u001b[0m\u001b[0;34m(\u001b[0m\u001b[0mtensor\u001b[0m\u001b[0;34m)\u001b[0m\u001b[0;34m:\u001b[0m\u001b[0;34m\u001b[0m\u001b[0;34m\u001b[0m\u001b[0m\n",
      "\u001b[0;31mTypeError\u001b[0m: Can't convert 'text': Expected string, got 1        @VirginAmerica plus you've added commercials t...\n3        @VirginAmerica it's really aggressive to blast...\n4        @VirginAmerica and it's a really big bad thing...\n5        @VirginAmerica seriously would pay $30 a fligh...\n6        @VirginAmerica yes, nearly every time I fly VX...\n8          @virginamerica Well, I didn't…but NOW I DO! :-D\n9        @VirginAmerica it was amazing, and arrived an ...\n11       @VirginAmerica I &lt;3 pretty graphics. so muc...\n12       @VirginAmerica This is such a great deal! Alre...\n13       @VirginAmerica @virginmedia I'm flying your #f...\n14                                  @VirginAmerica Thanks!\n15           @VirginAmerica SFO-PDX schedule is still MIA.\n16       @VirginAmerica So excited for my first cross c...\n17       @VirginAmerica  I flew from NYC to SFO last we...\n18                         I ❤️ flying @VirginAmerica. ☺️👍\n19       @VirginAmerica you know what would be amazingl...\n20       @VirginAmerica why are your first fares in May...\n21       @VirginAmerica I love this graphic. http://t.c...\n22       @VirginAmerica I love the hipster innovation. ...\n24       @VirginAmerica you guys messed up my seating.....\n25       @VirginAmerica status match program.  I applie...\n26       @VirginAmerica What happened 2 ur vegan food o...\n28       @VirginAmerica amazing to me that we can't get...\n30       @VirginAmerica hi! I just bked a cool birthday...\n32       @VirginAmerica help, left expensive headphones...\n33       @VirginAmerica awaiting my return phone call, ...\n34       @VirginAmerica this is great news!  America co...\n36       @VirginAmerica Moodlighting is the only way to...\n37       @VirginAmerica @freddieawards Done and done! B...\n39       @VirginAmerica Your chat support is not workin...\n                               ...                        \n14605    @AmericanAir trying to book a flight on hold- ...\n14606    @AmericanAir Cancelled Flights flights arbitra...\n14608    @AmericanAir my flight was Cancelled Flightled...\n14609    @AmericanAir &amp; if that wasn't enough, your...\n14610    @AmericanAir I understand the weather issue bu...\n14612    @AmericanAir a friend is having flight Cancell...\n14613    @AmericanAir I used the \"call back\" feature wi...\n14614    @AmericanAir I need to be at work tomorrow at ...\n14615    @AmericanAir  ugh Dump us in dfw w/no luggage ...\n14616    @AmericanAir Cancelled Flights my flight, does...\n14617              @AmericanAir DMing you now! Big thanks.\n14618    @AmericanAir 3078 is overweight so you pull 2 ...\n14619    @AmericanAir I love your company and your staf...\n14620    @AmericanAir I wait 2+ hrs for CS to call me b...\n14621    @AmericanAir I've been on hold for 55 mins abo...\n14622    I just need a place to sleep when I land witho...\n14623    @AmericanAir Love the new planes for the JFK-L...\n14624    @AmericanAir Call me Chairman, or call me Emer...\n14625    @AmericanAir Flight 236 was great. Fantastic c...\n14626    @AmericanAir Flight 953 NYC-Buenos Aires has b...\n14627    @AmericanAir Flight Cancelled Flightled, can't...\n14628    Thank you. “@AmericanAir: @jlhalldc Customer R...\n14629    @AmericanAir How do I change my flight if the ...\n14630                          @AmericanAir Thanks! He is.\n14631    @AmericanAir thx for nothing on getting us out...\n14633    @AmericanAir my flight was Cancelled Flightled...\n14634           @AmericanAir right on cue with the delays👌\n14635    @AmericanAir thank you we got on a different f...\n14636    @AmericanAir leaving over 20 minutes Late Flig...\n14638    @AmericanAir you have my money, you change my ...\nName: text, Length: 11541, dtype: object of type 'Series' instead."
     ]
    }
   ],
   "source": [
    "with tf.Session() as sess:\n",
    "    sess.run([tf.global_variables_initializer(), tf.tables_initializer()])\n",
    "    embedding_zdania = sess.run(use([df.text]))\n",
    "    \n",
    "    #for i in range(11,22):\n",
    "     #   sentence = df.text[i]\n",
    "      #  embedding_zdania = sess.run(use([sentence]))\n",
    "       # print(sentence)"
   ]
  },
  {
   "cell_type": "code",
   "execution_count": 81,
   "metadata": {},
   "outputs": [
    {
     "data": {
      "text/plain": [
       "array([[-2.78484682e-03, -7.45659694e-02, -3.81045379e-02,\n",
       "         3.00584752e-02,  3.24599110e-02,  3.53785157e-02,\n",
       "        -4.25925404e-02, -5.14759384e-02, -8.91453400e-03,\n",
       "         4.79118712e-02, -1.28807705e-02, -3.59100737e-02,\n",
       "        -7.65917748e-02, -2.13513337e-02, -4.13434058e-02,\n",
       "         1.51791340e-02, -2.21103560e-02,  1.11627998e-03,\n",
       "         4.46302593e-02,  2.11426131e-02,  2.59201564e-02,\n",
       "        -2.67620734e-03,  9.72468551e-05, -1.62428280e-03,\n",
       "         2.48743963e-05,  7.79649541e-02, -2.19114609e-02,\n",
       "        -9.17080566e-02, -3.33129168e-02, -4.00253721e-02,\n",
       "        -2.48409975e-02, -2.10440196e-02,  4.99990806e-02,\n",
       "         2.06358265e-03,  3.43945362e-02, -4.08227323e-03,\n",
       "        -7.30755646e-03, -1.86788738e-02, -5.87219037e-02,\n",
       "         1.64594147e-02,  4.75754365e-02, -5.07667139e-02,\n",
       "        -5.40951490e-02, -1.41029255e-02,  6.68084845e-02,\n",
       "        -7.78237078e-03, -6.72010938e-03, -4.17232327e-02,\n",
       "        -5.22736013e-02,  1.89704951e-02, -1.70108937e-02,\n",
       "        -2.67059095e-02, -6.43495796e-03, -3.24453376e-02,\n",
       "         8.42064917e-02,  1.78577490e-02,  1.97498798e-02,\n",
       "         6.75988793e-02, -6.38113841e-02,  3.08834221e-02,\n",
       "         5.86539172e-02, -8.40969197e-03, -1.58339692e-03,\n",
       "        -6.93978667e-02, -3.97117585e-02, -2.68291347e-02,\n",
       "         4.95320894e-02,  8.19523335e-02,  7.17131868e-02,\n",
       "         3.37425470e-02,  2.27695983e-02,  8.42665136e-02,\n",
       "         1.98305510e-02, -2.08800379e-03,  4.18240428e-02,\n",
       "        -2.41567735e-02,  1.02883745e-02, -3.77247343e-03,\n",
       "         5.92888780e-02,  6.73306584e-02,  6.99940324e-03,\n",
       "        -4.94102463e-02, -4.72756401e-02,  3.97874974e-02,\n",
       "        -1.07879145e-02, -3.26698087e-02,  3.08025517e-02,\n",
       "         3.60865146e-02,  6.18237890e-02, -7.50012696e-02,\n",
       "         6.19909018e-02,  3.55581963e-03, -6.67356048e-03,\n",
       "         4.47630920e-02, -3.16412002e-02, -4.74570766e-02,\n",
       "        -8.48897547e-03, -3.90008092e-02,  9.41719022e-03,\n",
       "         6.35567904e-02,  5.46108298e-02, -6.75073266e-02,\n",
       "        -5.20205274e-02,  4.15782295e-02,  5.22718616e-02,\n",
       "         6.88450560e-02, -1.90419964e-02,  2.69944575e-02,\n",
       "         5.23975603e-02,  7.34711997e-03,  3.23366262e-02,\n",
       "         7.48500926e-03,  7.74453059e-02, -9.63693485e-03,\n",
       "        -2.61764210e-02,  4.69732024e-02,  1.78201757e-02,\n",
       "        -1.01126485e-01,  2.62069143e-02,  1.64201465e-02,\n",
       "        -1.36594626e-03,  9.46562272e-03,  4.19640094e-02,\n",
       "        -1.28528420e-02, -1.90550964e-02, -6.93007261e-02,\n",
       "        -2.56375521e-02,  1.68227442e-02,  2.74986960e-02,\n",
       "        -3.96608113e-04, -9.76986438e-02,  1.65634658e-02,\n",
       "         1.64398905e-02, -1.61591843e-02, -6.00321926e-02,\n",
       "         5.49310558e-02,  2.73953993e-02,  9.00866389e-02,\n",
       "         7.26031736e-02, -5.21126911e-02, -1.70820821e-02,\n",
       "         3.19028124e-02, -3.66588235e-02, -6.38886616e-02,\n",
       "        -2.14802437e-02, -1.93252470e-02,  2.32033245e-03,\n",
       "         4.06020097e-02, -2.33640056e-02,  8.72843433e-03,\n",
       "         6.82810321e-03, -9.10100192e-02,  5.24800345e-02,\n",
       "        -2.76531801e-02, -5.86218908e-02, -3.86068560e-02,\n",
       "         3.38190868e-02,  6.54487535e-02,  8.99678841e-03,\n",
       "        -2.66739931e-02, -7.89518654e-02, -2.47305892e-02,\n",
       "         8.71889573e-03,  3.57292220e-02,  9.01757628e-02,\n",
       "        -4.92897183e-02, -5.96524514e-02, -3.77548598e-02,\n",
       "         5.12185134e-02,  4.03885841e-02, -4.46152501e-02,\n",
       "         8.55944082e-02,  4.76823114e-02,  1.70770139e-02,\n",
       "         2.90206987e-02, -1.97433699e-02, -5.71330860e-02,\n",
       "         2.28499658e-02, -9.00490656e-02,  5.32811694e-02,\n",
       "        -4.55668569e-02, -6.15543164e-02,  5.69040850e-02,\n",
       "         3.35964337e-02, -2.92951055e-02, -5.73543794e-02,\n",
       "         5.68724573e-02,  4.96540032e-02, -3.74496542e-02,\n",
       "         5.02115116e-02,  3.50882113e-02, -1.22753428e-02,\n",
       "         3.36776488e-02, -4.99334373e-02, -2.83604711e-02,\n",
       "        -7.59645179e-02,  1.78340706e-03,  2.07941495e-02,\n",
       "        -5.39373010e-02, -7.94095621e-02,  4.26599272e-02,\n",
       "        -3.98929743e-03, -9.30024870e-03,  5.34814671e-02,\n",
       "        -1.05483728e-02, -3.42960693e-02,  7.30672255e-02,\n",
       "         7.17454702e-02, -4.15746495e-02,  6.62285239e-02,\n",
       "         9.30008963e-02, -2.21451558e-02,  1.39681064e-02,\n",
       "         3.59452628e-02,  2.47853156e-02,  5.93519956e-02,\n",
       "         3.85767035e-02,  3.78998630e-02, -4.07742038e-02,\n",
       "         6.42520236e-03, -2.34810971e-02,  6.68816362e-03,\n",
       "         6.57204986e-02, -1.55398259e-02, -5.42555116e-02,\n",
       "        -1.19863171e-02, -6.44598231e-02,  1.05046919e-02,\n",
       "         4.83476110e-02, -1.99217442e-02,  1.07052075e-02,\n",
       "         5.13951965e-02,  4.45607230e-02, -4.08112779e-02,\n",
       "         7.06504285e-03, -9.28265858e-04, -2.02780887e-02,\n",
       "         3.14973891e-02,  4.02074121e-02, -4.11344953e-02,\n",
       "         7.37726018e-02,  7.30344430e-02, -2.79847048e-02,\n",
       "        -1.70925632e-02,  6.66820928e-02,  2.98971273e-02,\n",
       "        -9.94081330e-03, -5.45838512e-02,  2.16360670e-02,\n",
       "         1.19075226e-02,  1.61486771e-02,  8.53170641e-03,\n",
       "        -4.94479202e-02, -6.72930181e-02,  8.45137518e-03,\n",
       "         7.26795644e-02, -3.61522287e-02,  3.88185941e-02,\n",
       "         3.20234485e-02,  3.14256735e-02,  3.71985734e-02,\n",
       "         1.15670229e-03, -5.45488708e-02,  8.06917176e-02,\n",
       "        -6.22289628e-02, -4.44646291e-02, -5.31996414e-02,\n",
       "        -3.34870294e-02,  2.19642352e-02, -7.74321752e-03,\n",
       "         9.14608985e-02, -4.76452112e-02, -7.11661130e-02,\n",
       "         4.07435223e-02, -1.00082405e-01, -3.61049026e-02,\n",
       "         1.07479971e-02,  1.05066355e-02, -9.15471241e-02,\n",
       "        -6.42783120e-02,  2.33468064e-03, -7.17343092e-02,\n",
       "         1.79263353e-02,  3.56158577e-02, -4.39598821e-02,\n",
       "        -2.99795670e-03,  1.97017379e-02,  3.58714759e-02,\n",
       "        -2.44968515e-02,  4.95971786e-03,  2.98482273e-02,\n",
       "        -5.56500405e-02,  3.99858542e-02, -1.10471686e-02,\n",
       "         3.91752049e-02,  3.51617783e-02, -1.11211911e-02,\n",
       "         5.23797907e-02, -1.97801627e-02,  3.03073674e-02,\n",
       "        -8.57963637e-02,  2.02961396e-02, -1.10653294e-02,\n",
       "         5.56735508e-02, -4.70487066e-02, -2.24404987e-02,\n",
       "        -2.97729038e-02,  2.10347828e-02, -5.23801055e-03,\n",
       "        -9.25654825e-03,  8.15963522e-02, -5.65910852e-03,\n",
       "         1.13611044e-02, -9.35109053e-03,  2.85597835e-02,\n",
       "         1.74688082e-03, -3.12451608e-02, -3.98498140e-02,\n",
       "        -4.49563982e-03, -9.15565435e-03, -6.09876122e-03,\n",
       "         2.59867422e-02,  5.01267426e-02, -5.00783697e-02,\n",
       "        -4.28065471e-02,  1.03009075e-01, -4.95556463e-03,\n",
       "        -7.00065643e-02,  8.55373964e-02,  6.42604055e-03,\n",
       "         4.26685885e-02, -7.94683490e-03, -1.46108698e-02,\n",
       "        -5.30668274e-02,  3.18319835e-02, -3.62448096e-02,\n",
       "        -1.82513781e-02,  8.37401226e-02, -4.33277935e-02,\n",
       "        -6.39351904e-02,  3.03841401e-02,  5.59192849e-03,\n",
       "        -2.89963558e-02,  5.66171333e-02, -4.06706333e-02,\n",
       "         4.61745600e-04,  2.02524737e-02,  1.86942741e-02,\n",
       "         4.58522439e-02, -1.50456242e-02,  2.95036566e-02,\n",
       "        -8.89197364e-02,  6.83020949e-02,  4.98014800e-02,\n",
       "        -5.42504154e-02,  6.82452619e-02, -6.86230510e-02,\n",
       "        -4.59966511e-02,  1.63507145e-02, -6.16903827e-02,\n",
       "        -3.99926212e-03, -2.38804631e-02,  8.38021040e-02,\n",
       "        -2.79316641e-02,  7.10409433e-02, -8.30082968e-03,\n",
       "         9.35827568e-03,  5.45886643e-02,  4.00095619e-02,\n",
       "         5.78187890e-02, -2.95597259e-02, -3.66059691e-02,\n",
       "        -8.10122117e-03,  3.42094377e-02,  3.74822356e-02,\n",
       "         5.54313138e-02,  7.46521503e-02, -4.58780117e-02,\n",
       "         3.68191563e-02,  4.59657330e-03, -2.84929946e-02,\n",
       "        -3.08059249e-02,  5.12721948e-02,  6.56544939e-02,\n",
       "         1.17987785e-02,  3.68074887e-02,  5.64071313e-02,\n",
       "         4.56499085e-02, -8.84505063e-02, -6.09843507e-02,\n",
       "        -4.63480651e-02,  2.53821779e-02, -1.11050857e-02,\n",
       "         8.90327841e-02,  9.04712602e-02, -2.70575117e-02,\n",
       "         4.91685383e-02,  2.39900202e-02,  3.18399779e-02,\n",
       "         1.44265285e-02,  1.41804451e-02, -7.33815366e-03,\n",
       "        -8.45925286e-02,  3.18401121e-02, -6.11037202e-02,\n",
       "         6.98782057e-02,  1.17434869e-02, -1.87647417e-02,\n",
       "        -2.99931690e-02, -2.82135978e-02, -3.79259363e-02,\n",
       "        -1.64896082e-02, -6.26045316e-02, -2.66274525e-04,\n",
       "        -3.43718007e-02,  5.49055375e-02,  6.81984872e-02,\n",
       "        -7.02321753e-02,  4.92312275e-02, -1.54222669e-02,\n",
       "         1.02067022e-02,  1.91056784e-02, -3.15274820e-02,\n",
       "         1.48320626e-02,  3.53976935e-02, -3.87871265e-02,\n",
       "        -5.84158599e-02,  2.26646569e-02, -1.50428778e-02,\n",
       "        -3.62759940e-02,  7.82826319e-02, -3.88519242e-02,\n",
       "         3.03122196e-02, -4.27332409e-02, -4.28256989e-02,\n",
       "         1.52612086e-02, -1.31107038e-02, -3.33582424e-02,\n",
       "        -2.74496172e-02, -1.50152110e-02, -1.66462343e-02,\n",
       "        -5.39563820e-02,  4.00077328e-02,  3.94962840e-02,\n",
       "         4.89577390e-02,  1.75302010e-02, -1.37638180e-02,\n",
       "         1.04497664e-03,  8.24001133e-02, -3.67537141e-02,\n",
       "         6.75548043e-04, -3.00421026e-02,  1.90502993e-04,\n",
       "        -6.27465248e-02, -2.50582118e-03, -1.38406055e-02,\n",
       "         1.00988083e-01, -2.24152841e-02, -5.31205647e-02,\n",
       "         1.73580144e-02, -4.70952913e-02, -1.14741223e-02,\n",
       "        -2.14293301e-02,  1.54758086e-02, -9.78818070e-03,\n",
       "        -6.30587861e-02, -2.42952406e-02, -7.00759143e-02,\n",
       "         2.93023940e-02, -1.95943099e-02,  3.47149745e-02,\n",
       "        -5.12839183e-02,  2.82712579e-02, -5.82855977e-02,\n",
       "         1.36078810e-02,  4.35670279e-02, -9.29655507e-02,\n",
       "         5.57274893e-02,  7.29718059e-02, -3.41560394e-02,\n",
       "        -1.35656949e-02, -5.38933687e-02,  5.25159165e-02,\n",
       "         5.45594282e-02,  3.20794992e-02, -3.57819907e-02,\n",
       "         5.04085515e-03, -3.35854515e-02, -8.81318226e-02,\n",
       "        -2.07986124e-03,  4.56149690e-02,  2.14975066e-02,\n",
       "         3.63636501e-02,  8.95858835e-03,  3.28749642e-02,\n",
       "         3.88183855e-02,  9.71248467e-03, -3.71977165e-02,\n",
       "        -6.84188306e-02, -5.09719886e-02,  2.94701532e-02,\n",
       "        -3.66501473e-02, -9.60219745e-03,  5.18768188e-03,\n",
       "        -1.73396338e-02, -4.78361174e-02,  1.32109476e-02,\n",
       "        -3.54886651e-02,  9.12786201e-02,  1.39836976e-02,\n",
       "        -8.95717740e-02, -3.13527649e-03]], dtype=float32)"
      ]
     },
     "execution_count": 81,
     "metadata": {},
     "output_type": "execute_result"
    }
   ],
   "source": [
    "embedding_zdania"
   ]
  }
 ],
 "metadata": {
  "kernelspec": {
   "display_name": "Python 3",
   "language": "python",
   "name": "python3"
  },
  "language_info": {
   "codemirror_mode": {
    "name": "ipython",
    "version": 3
   },
   "file_extension": ".py",
   "mimetype": "text/x-python",
   "name": "python",
   "nbconvert_exporter": "python",
   "pygments_lexer": "ipython3",
   "version": "3.6.8"
  }
 },
 "nbformat": 4,
 "nbformat_minor": 2
}
