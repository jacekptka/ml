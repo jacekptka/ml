{
 "cells": [
  {
   "cell_type": "code",
   "execution_count": 1,
   "metadata": {
    "collapsed": true
   },
   "outputs": [],
   "source": [
    "import numpy as np\n",
    "import math\n",
    "import random"
   ]
  },
  {
   "cell_type": "markdown",
   "metadata": {},
   "source": [
    "Załadujemy zbiór danych - obrazków cyfr z pakietu sklearn:"
   ]
  },
  {
   "cell_type": "code",
   "execution_count": 2,
   "metadata": {},
   "outputs": [
    {
     "name": "stdout",
     "output_type": "stream",
     "text": [
      "(1797, 64)\n"
     ]
    },
    {
     "data": {
      "text/plain": [
       "(1797, 64)"
      ]
     },
     "execution_count": 2,
     "metadata": {},
     "output_type": "execute_result"
    }
   ],
   "source": [
    "from sklearn.datasets import load_digits\n",
    "digits = load_digits()\n",
    "print(digits.data.shape)\n",
    "(1797, 64)\n"
   ]
  },
  {
   "cell_type": "markdown",
   "metadata": {},
   "source": [
    "Wyświetlenie pierwszego z obrazków w kolekcji (indeks 0). Możesz spróbować wyświetlić kilka kolejnych."
   ]
  },
  {
   "cell_type": "code",
   "execution_count": 10,
   "metadata": {
    "collapsed": true
   },
   "outputs": [],
   "source": [
    "import matplotlib.pyplot as plt \n",
    "plt.gray() \n",
    "plt.matshow(digits.images[13]) \n",
    "plt.show() "
   ]
  },
  {
   "cell_type": "markdown",
   "metadata": {},
   "source": [
    "Tak powinien wyglądać label (etykieta) tego obrazka:"
   ]
  },
  {
   "cell_type": "code",
   "execution_count": 9,
   "metadata": {},
   "outputs": [
    {
     "data": {
      "text/plain": [
       "7"
      ]
     },
     "execution_count": 9,
     "metadata": {},
     "output_type": "execute_result"
    }
   ],
   "source": [
    "digits.target[27]"
   ]
  },
  {
   "cell_type": "markdown",
   "metadata": {
    "scrolled": true
   },
   "source": [
    "Sprawdzenie wielkosci zbioru danych:"
   ]
  },
  {
   "cell_type": "code",
   "execution_count": 11,
   "metadata": {},
   "outputs": [
    {
     "name": "stdout",
     "output_type": "stream",
     "text": [
      "(1797,)\n"
     ]
    }
   ],
   "source": [
    "print(digits['target'].shape)"
   ]
  },
  {
   "cell_type": "code",
   "execution_count": 12,
   "metadata": {},
   "outputs": [
    {
     "name": "stdout",
     "output_type": "stream",
     "text": [
      "(1797, 8, 8)\n"
     ]
    }
   ],
   "source": [
    "print(digits['images'].shape)"
   ]
  },
  {
   "cell_type": "markdown",
   "metadata": {},
   "source": [
    "Praca z obrazkami wymaga spłaszczenia ich do 1-wymiarowego wektora. Podpowiedź: użyj komendy numpy.reshape!"
   ]
  },
  {
   "cell_type": "code",
   "execution_count": 13,
   "metadata": {
    "collapsed": true
   },
   "outputs": [],
   "source": [
    "X = digits['images'].reshape(8*8, 1797)"
   ]
  },
  {
   "cell_type": "code",
   "execution_count": 14,
   "metadata": {
    "collapsed": true
   },
   "outputs": [],
   "source": [
    "Y = digits['target']"
   ]
  },
  {
   "cell_type": "code",
   "execution_count": 15,
   "metadata": {},
   "outputs": [
    {
     "data": {
      "text/plain": [
       "(64, 1797)"
      ]
     },
     "execution_count": 15,
     "metadata": {},
     "output_type": "execute_result"
    }
   ],
   "source": [
    "X.shape"
   ]
  },
  {
   "cell_type": "code",
   "execution_count": 16,
   "metadata": {},
   "outputs": [
    {
     "data": {
      "text/plain": [
       "(1797,)"
      ]
     },
     "execution_count": 16,
     "metadata": {},
     "output_type": "execute_result"
    }
   ],
   "source": [
    "Y.shape"
   ]
  },
  {
   "cell_type": "code",
   "execution_count": 17,
   "metadata": {},
   "outputs": [
    {
     "data": {
      "text/plain": [
       "array([0, 1, 2, 3, 4, 5, 6, 7, 8, 9])"
      ]
     },
     "execution_count": 17,
     "metadata": {},
     "output_type": "execute_result"
    }
   ],
   "source": [
    "np.unique(Y)"
   ]
  },
  {
   "cell_type": "markdown",
   "metadata": {
    "collapsed": true
   },
   "source": [
    "Regresja logistyczna pozwala na binarną klasyfikację (tylko dwie klasy), spróbujmy więc nauczyć nasz model rozpoznawania zer i jedynek. Wyciągnijmy więc tylko te dwa zbiory liczb w podziale na X i Y:"
   ]
  },
  {
   "cell_type": "code",
   "execution_count": 18,
   "metadata": {
    "collapsed": true
   },
   "outputs": [],
   "source": [
    "ix = np.isin(Y, [0,1])\n",
    "ix = np.in1d(Y, [0,1])\n",
    "X_zeroone = np.compress(ix, X, axis=1)\n",
    "Y_zeroone = np.compress(ix, Y, axis=0)"
   ]
  },
  {
   "cell_type": "markdown",
   "metadata": {},
   "source": [
    "Na tym etapie, X_zeroone i Y_zeroone zawierają wyłącznie obrazki oraz etykiety dla zer i jedynek."
   ]
  },
  {
   "cell_type": "code",
   "execution_count": 19,
   "metadata": {},
   "outputs": [
    {
     "data": {
      "text/plain": [
       "(64, 360)"
      ]
     },
     "execution_count": 19,
     "metadata": {},
     "output_type": "execute_result"
    }
   ],
   "source": [
    "X_zeroone.shape"
   ]
  },
  {
   "cell_type": "code",
   "execution_count": 20,
   "metadata": {},
   "outputs": [
    {
     "data": {
      "text/plain": [
       "array([0, 1])"
      ]
     },
     "execution_count": 20,
     "metadata": {},
     "output_type": "execute_result"
    }
   ],
   "source": [
    "np.unique(Y_zeroone)"
   ]
  },
  {
   "cell_type": "markdown",
   "metadata": {},
   "source": [
    "#### Zadanie\n",
    "Podziel X_zeroone i Y_zeroone na zbiory treningowe _train oraz testowe _test. Niech pierwsze 300 przypadków należy do zbioru treningowego:"
   ]
  },
  {
   "cell_type": "code",
   "execution_count": 27,
   "metadata": {
    "collapsed": true
   },
   "outputs": [],
   "source": [
    "takefirst=300\n",
    "X_train, X_test = X_zeroone[:,:takefirst], X_zeroone[:,takefirst:]\n",
    "Y_train, Y_test = Y_zeroone[:takefirst], Y_zeroone[takefirst:]"
   ]
  },
  {
   "cell_type": "markdown",
   "metadata": {},
   "source": [
    "#### Zadanie\n",
    "Użyj funkcji np_sigmoid z arkusza zadań z numpym"
   ]
  },
  {
   "cell_type": "code",
   "execution_count": 21,
   "metadata": {
    "collapsed": true
   },
   "outputs": [],
   "source": [
    "def np_sigmoid(z):\n",
    "    s = 1 / (1 + np.exp(-z))\n",
    "    return s\n"
   ]
  },
  {
   "cell_type": "code",
   "execution_count": 22,
   "metadata": {
    "collapsed": true
   },
   "outputs": [],
   "source": [
    "def inicjalizuj_zerami(dim):\n",
    "    w = np.zeros((dim,1))\n",
    "    b = 0\n",
    "    assert(w.shape == (dim, 1))\n",
    "    assert(isinstance(b, float) or isinstance(b, int))\n",
    "    return w, b    "
   ]
  },
  {
   "cell_type": "markdown",
   "metadata": {},
   "source": [
    "Zaimplementuj metodę propaguj, a w niej:\n",
    "<img src=\"images/wzory_regresja_logistyczna.png\">\n",
    "W tym przypadku * oznacza iloczyn macierzowy, .T transpozycję macierzy.\n",
    "Przy obliczaniu aktywacji czyli A, funkcją zewnętrzną jest sigmoid."
   ]
  },
  {
   "cell_type": "code",
   "execution_count": 32,
   "metadata": {
    "collapsed": true
   },
   "outputs": [],
   "source": [
    "def propaguj(w, b, X, Y):\n",
    "    m = X.shape[1]\n",
    "    # propagacja w przod, z X liczymy koszt:\n",
    "    A = np_sigmoid(np.dot(w.T,X)+b)                                  \n",
    "    cost = - np.sum(Y*np.log(A) + (1-Y)*np.log(1-A))/takefirst        \n",
    "    \n",
    "    # propagacja wsteczna, czyli liczenie gradientu:\n",
    "    dw = np.dot(X,(A-Y).T)/m\n",
    "    db = np.sum(A-Y)/m\n",
    "    \n",
    "    cost = np.squeeze(cost)\n",
    "    \n",
    "    grads = {\"dw\": dw, \"db\": db}\n",
    "    return grads, cost"
   ]
  },
  {
   "cell_type": "markdown",
   "metadata": {},
   "source": [
    "Zaimplementuj aktualizację obu parametrów (wag oraz biasów) modelu zgodnie z równaniem:\n",
    "\n",
    "$$p = p - \\lambda * dp$$\n",
    "\n",
    "Gdzie $\\lambda$ to learning rate a $dp$ to gradient parametru p."
   ]
  },
  {
   "cell_type": "code",
   "execution_count": 33,
   "metadata": {
    "collapsed": true
   },
   "outputs": [],
   "source": [
    "def optymalizuj(w, b, X, Y, num_iterations, learning_rate):\n",
    "    costs = []\n",
    "    m = X.shape[1]\n",
    "    for i in range(num_iterations):\n",
    "        grads, cost = propaguj(w, b, X, Y)\n",
    "        dw = grads[\"dw\"]\n",
    "        db = grads[\"db\"]\n",
    "        w = w - learning_rate*dw\n",
    "        b = b - learning_rate*db\n",
    "        costs.append(cost)\n",
    "    \n",
    "    params = {\"w\": w, \"b\": b}\n",
    "    grads = {\"dw\": dw, \"db\": db}\n",
    "    \n",
    "    return params, grads, costs        "
   ]
  },
  {
   "cell_type": "markdown",
   "metadata": {},
   "source": [
    "Zaimplementuj metodę klasyfikuj, a w niej:\n",
    " - funkcję aktywacji A według równania na A powyżej\n",
    " - oblicz wartości przewidywanych etykiet T_prediction jako: 0 jeśli [A,i] jest mniejszy lub równy niż 0.5, 1 w przeciwnym przypadku."
   ]
  },
  {
   "cell_type": "code",
   "execution_count": 45,
   "metadata": {
    "collapsed": true
   },
   "outputs": [],
   "source": [
    "def klasyfikuj(w, b, X):\n",
    "    m = X.shape[1]\n",
    "    Y_prediction = np.zeros((1,m))\n",
    "    w = w.reshape(X.shape[0], 1)\n",
    "    A = np_sigmoid( np.dot(w.T,X) +b)\n",
    "    for i in range(A.shape[1]):\n",
    "        if A[0,i] <= 0.5: Y_prediction[0,i] = 0\n",
    "        else: Y_prediction[0,i] = 1\n",
    "    return Y_prediction"
   ]
  },
  {
   "cell_type": "code",
   "execution_count": 46,
   "metadata": {},
   "outputs": [
    {
     "name": "stdout",
     "output_type": "stream",
     "text": [
      "------>  learning rate:0.1\n",
      "train accuracy: 50.0 %\n",
      "test accuracy: 46.6666666667 %\n"
     ]
    },
    {
     "name": "stderr",
     "output_type": "stream",
     "text": [
      "/Library/Frameworks/Python.framework/Versions/2.7/lib/python2.7/site-packages/ipykernel/__main__.py:5: RuntimeWarning: divide by zero encountered in log\n",
      "/Library/Frameworks/Python.framework/Versions/2.7/lib/python2.7/site-packages/ipykernel/__main__.py:5: RuntimeWarning: invalid value encountered in multiply\n"
     ]
    }
   ],
   "source": [
    "m = X.shape[1]\n",
    "w, b = inicjalizuj_zerami(X.shape[0])\n",
    "num_iterations=500\n",
    "learning_rate=0.1\n",
    "params, grads, costs = optymalizuj(w, b, X_train, Y_train, num_iterations, learning_rate)\n",
    "\n",
    "Y_prediction_test = klasyfikuj(w, b, X_test)\n",
    "Y_prediction_train = klasyfikuj(w, b, X_train)\n",
    "print(\"------>  learning rate:\"+str(learning_rate))\n",
    "print(\"train accuracy: {} %\".format(100 - np.mean(np.abs(Y_prediction_train - Y_train)) * 100))\n",
    "print(\"test accuracy: {} %\".format(100 - np.mean(np.abs(Y_prediction_test - Y_test)) * 100))\n",
    "    "
   ]
  },
  {
   "cell_type": "markdown",
   "metadata": {},
   "source": [
    "### Zadania\n",
    "1. Przetestuj różne zakresy parametru liczba iteracji (num_iterations), np 10, 100, 500\n",
    "2. Dla każdej wartości num_iterations, przetestuj learning_rate w zakresie np   1.5, 1.0, 0.01, 00.1\n",
    "3. Spróbuj uzależnić learning_rate od num_iterations, tak żeby learning_rate malał co każde N iteracji. Dobierz N do liczby iteracji."
   ]
  },
  {
   "cell_type": "code",
   "execution_count": 70,
   "metadata": {},
   "outputs": [
    {
     "name": "stderr",
     "output_type": "stream",
     "text": [
      "/Library/Frameworks/Python.framework/Versions/2.7/lib/python2.7/site-packages/ipykernel/__main__.py:5: RuntimeWarning: divide by zero encountered in log\n",
      "/Library/Frameworks/Python.framework/Versions/2.7/lib/python2.7/site-packages/ipykernel/__main__.py:5: RuntimeWarning: invalid value encountered in multiply\n"
     ]
    },
    {
     "name": "stdout",
     "output_type": "stream",
     "text": [
      "------>  learning rate:0.8\n",
      "train accuracy: 54.3333333333 %\n",
      "test accuracy: 56.6666666667 %\n",
      "------>  learning rate:0.1\n",
      "train accuracy: 61.3333333333 %\n",
      "test accuracy: 70.0 %\n",
      "------>  learning rate:0.01\n",
      "train accuracy: 61.0 %\n",
      "test accuracy: 68.3333333333 %\n",
      "------>  learning rate:0.001\n",
      "train accuracy: 61.3333333333 %\n",
      "test accuracy: 68.3333333333 %\n",
      "------>  learning rate:0.0001\n",
      "train accuracy: 61.3333333333 %\n",
      "test accuracy: 68.3333333333 %\n"
     ]
    }
   ],
   "source": [
    "w, b = inicjalizuj_zerami(X.shape[0])\n",
    "m = X.shape[1]\n",
    "\n",
    "for num_iterations in [10,100,500]:\n",
    "    for learning_rate in [1.5, 1.0, 0.01, 0.01]:\n",
    "        params, grads, costs = optymalizuj(w, b, X_train, Y_train, num_iterations, learning_rate)\n",
    "        w = params[\"w\"]\n",
    "        b = params[\"b\"]\n",
    "\n",
    "        Y_prediction_test = klasyfikuj(w, b, X_test)\n",
    "        Y_prediction_train = None\n",
    "        print(\"------>  learning rate:\"+str(learning_rate))\n",
    "        print(\"train accuracy: {} %\".format(100 - np.mean(np.abs(Y_prediction_train - Y_train)) * 100))\n",
    "        print(\"test accuracy: {} %\".format(100 - np.mean(np.abs(Y_prediction_test - Y_test)) * 100))"
   ]
  },
  {
   "cell_type": "markdown",
   "metadata": {
    "collapsed": true
   },
   "source": [
    "Dla jakich ustawień udało się uzyskać najwyższą dokładność (accuracy) na zbiorze testowym?\n"
   ]
  }
 ],
 "metadata": {
  "kernelspec": {
   "display_name": "Python 3",
   "language": "python",
   "name": "python3"
  },
  "language_info": {
   "codemirror_mode": {
    "name": "ipython",
    "version": 3
   },
   "file_extension": ".py",
   "mimetype": "text/x-python",
   "name": "python",
   "nbconvert_exporter": "python",
   "pygments_lexer": "ipython3",
   "version": "3.6.6"
  }
 },
 "nbformat": 4,
 "nbformat_minor": 2
}
