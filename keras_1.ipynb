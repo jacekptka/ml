{
 "cells": [
  {
   "cell_type": "markdown",
   "metadata": {},
   "source": [
    "## Podstawy KERAS\n",
    "\n",
    "### Podstawy pracy z obrazkami\n",
    "\n",
    "Zbiory: 50 000 kolorowych obrazków treningowych (_train) 10 000 testowych (_test)\n",
    "o rozdzielczości 32 x 32, oznaczonych 10 kategoriami"
   ]
  },
  {
   "cell_type": "code",
   "execution_count": 31,
   "metadata": {},
   "outputs": [],
   "source": [
    "import keras\n",
    "from keras.datasets import cifar10\n",
    "(x_train, y_train), (x_test, y_test) = cifar10.load_data()"
   ]
  },
  {
   "cell_type": "markdown",
   "metadata": {},
   "source": [
    "Etykiety, które chcemy przewidywać naszą siecią neuronową, są cyframi, oznaczającymi klasę:"
   ]
  },
  {
   "cell_type": "code",
   "execution_count": 32,
   "metadata": {},
   "outputs": [
    {
     "data": {
      "text/plain": [
       "array([3])"
      ]
     },
     "execution_count": 32,
     "metadata": {},
     "output_type": "execute_result"
    }
   ],
   "source": [
    "y_test[0]"
   ]
  },
  {
   "cell_type": "code",
   "execution_count": 33,
   "metadata": {},
   "outputs": [
    {
     "name": "stdout",
     "output_type": "stream",
     "text": [
      "(50000, 32, 32, 3)\n"
     ]
    }
   ],
   "source": [
    "print(x_train.shape)"
   ]
  },
  {
   "cell_type": "markdown",
   "metadata": {},
   "source": [
    "Obrazek możemy wyświetlić w następujący sposób, korzystając z matplotlib i metody imshow:"
   ]
  },
  {
   "cell_type": "code",
   "execution_count": 4,
   "metadata": {},
   "outputs": [
    {
     "data": {
      "text/plain": [
       "<Figure size 640x480 with 1 Axes>"
      ]
     },
     "metadata": {},
     "output_type": "display_data"
    }
   ],
   "source": [
    "import matplotlib.pyplot as plt\n",
    "plt.imshow(x_train[10000])\n",
    "plt.show()"
   ]
  },
  {
   "cell_type": "markdown",
   "metadata": {},
   "source": [
    "### Reprezentacja etykiet (wyjścia) w sieciach neuronowych\n",
    "\n",
    "Sieci neuronowe wymagają innej reprezentacji i obsługi etykiet niż cyfry 0-9. Służy temu tzw kodowanie \"one-hot\".\n",
    "Dla danej klasy podajemy 1 dla \"jej\" neuronu (\"gorąca jedynka\"), 0 – dla wszystkich pozostałych.\n",
    "Konwersja do kodowania one-hot:"
   ]
  },
  {
   "cell_type": "code",
   "execution_count": 34,
   "metadata": {},
   "outputs": [],
   "source": [
    "from keras.utils import np_utils\n",
    "num_classes = 10\n",
    "y_train = np_utils.to_categorical(y_train, num_classes)\n",
    "y_test = np_utils.to_categorical(y_test, num_classes)"
   ]
  },
  {
   "cell_type": "markdown",
   "metadata": {},
   "source": [
    "Podejrzyjmy jak wygląda reprezentacja one-hot:"
   ]
  },
  {
   "cell_type": "code",
   "execution_count": 35,
   "metadata": {},
   "outputs": [
    {
     "data": {
      "text/plain": [
       "array([0., 0., 0., 1., 0., 0., 0., 0., 0., 0.], dtype=float32)"
      ]
     },
     "execution_count": 35,
     "metadata": {},
     "output_type": "execute_result"
    }
   ],
   "source": [
    "y_test[0]"
   ]
  },
  {
   "cell_type": "markdown",
   "metadata": {},
   "source": [
    "### Reprezentacja obrazów (wejścia) w sieciach neuronowych\n",
    "\n",
    "Dane wejściowe muszą zostać \"spłaszczone\" do pojedynczego wektora.\n",
    "\n",
    "Zestaw danych treningowych jest zapisany jako 3-wymiarowa macierz obrazów, dla każdego koloru mamy szerokość * wysokość obrazka. W przypadku wielowarstwowej sieci neuronowej musimy zmniejszyć obrazy do wektora pikseli. W tym przypadku, obrazy o rozmiarze 32 x 32 będą miały wartość wejściową 1024 pikseli * 3 = 3072"
   ]
  },
  {
   "cell_type": "code",
   "execution_count": 40,
   "metadata": {},
   "outputs": [
    {
     "data": {
      "text/plain": [
       "(32, 32, 3)"
      ]
     },
     "execution_count": 40,
     "metadata": {},
     "output_type": "execute_result"
    }
   ],
   "source": [
    "x_train[0].shape"
   ]
  },
  {
   "cell_type": "markdown",
   "metadata": {},
   "source": [
    "Podając obrazki na wejście sieci typu Dense/perceptron musimy je spłaszczyć do jednowymiarowego wektora (uwaga! od tej pory używamy X_train zamiast x_train):"
   ]
  },
  {
   "cell_type": "code",
   "execution_count": 8,
   "metadata": {},
   "outputs": [],
   "source": [
    "#num_pixels = x_train.shape[1] * x_train.shape[2] * x_train.shape[3]\n",
    "#X_train = x_train.reshape(x_train.shape[0], num_pixels).astype('float32')\n",
    "#X_test = x_test.reshape(x_test.shape[0], num_pixels).astype('float32')"
   ]
  },
  {
   "cell_type": "markdown",
   "metadata": {},
   "source": [
    "Sprawdzmy wynik tej operacji:"
   ]
  },
  {
   "cell_type": "code",
   "execution_count": 37,
   "metadata": {},
   "outputs": [
    {
     "data": {
      "text/plain": [
       "(3072,)"
      ]
     },
     "execution_count": 37,
     "metadata": {},
     "output_type": "execute_result"
    }
   ],
   "source": [
    "X_train[0].shape"
   ]
  },
  {
   "cell_type": "code",
   "execution_count": 41,
   "metadata": {},
   "outputs": [
    {
     "data": {
      "text/plain": [
       "array([0., 0., 0., 0., 0., 0., 1., 0., 0., 0.], dtype=float32)"
      ]
     },
     "execution_count": 41,
     "metadata": {},
     "output_type": "execute_result"
    }
   ],
   "source": [
    "y_train[0]"
   ]
  },
  {
   "cell_type": "markdown",
   "metadata": {},
   "source": [
    "Modele w kerasie najwygodniej tworzyć korzystając z funkcjonalnego API:\n",
    "https://keras.io/models/model/\n",
    "\n",
    "Typy warstw zaimplementowanych w keras:\n",
    "https://keras.io/layers/core/\n",
    "\n",
    "Poniższy przykład tworzy 2-warstwową sieć typu Dense/perceptron oraz uruchamia proces uczenia.\n",
    "\n",
    "UWAGA! czas wykonania jednej epoki może zająć kilka do kilkunastu minut!"
   ]
  },
  {
   "cell_type": "code",
   "execution_count": 11,
   "metadata": {},
   "outputs": [
    {
     "name": "stdout",
     "output_type": "stream",
     "text": [
      "WARNING:tensorflow:From /opt/anaconda3/lib/python3.6/site-packages/tensorflow/python/framework/op_def_library.py:263: colocate_with (from tensorflow.python.framework.ops) is deprecated and will be removed in a future version.\n",
      "Instructions for updating:\n",
      "Colocations handled automatically by placer.\n",
      "WARNING:tensorflow:From /opt/anaconda3/lib/python3.6/site-packages/tensorflow/python/ops/math_ops.py:3066: to_int32 (from tensorflow.python.ops.math_ops) is deprecated and will be removed in a future version.\n",
      "Instructions for updating:\n",
      "Use tf.cast instead.\n",
      "Epoch 1/3\n",
      "50000/50000 [==============================] - 178s 4ms/step - loss: 14.5060 - acc: 0.1000\n",
      "Epoch 2/3\n",
      "50000/50000 [==============================] - 182s 4ms/step - loss: 14.5063 - acc: 0.1000\n",
      "Epoch 3/3\n",
      "50000/50000 [==============================] - 208s 4ms/step - loss: 14.5063 - acc: 0.1000\n"
     ]
    },
    {
     "data": {
      "text/plain": [
       "<keras.callbacks.History at 0x7f1c8b963400>"
      ]
     },
     "execution_count": 11,
     "metadata": {},
     "output_type": "execute_result"
    }
   ],
   "source": [
    "from keras.layers import Input, Dense\n",
    "from keras.models import Model\n",
    "\n",
    "# Wymiarowosc wejscia sieci musi zgadzac sie z x_train.shape\n",
    "inputs = Input(shape=(num_pixels,))\n",
    "\n",
    "# a layer instance is callable on a tensor, and returns a tensor\n",
    "x = Dense(num_pixels, activation='relu')(inputs)\n",
    "#x = Dense(num_pixels, activation='relu')(x)\n",
    "predictions = Dense(num_classes, activation='softmax')(x)\n",
    "\n",
    "# tworzenie modelu z wejsciem inputs i wyjsciem predictions\n",
    "# uwaga: w keras 1.x zmien nazwy: inputs->input oraz outputs->output\n",
    "model = Model(inputs=inputs, outputs=predictions)\n",
    "model.compile(optimizer='adam', loss='categorical_crossentropy', metrics=['accuracy'])\n",
    "model.fit(X_train, y_train, epochs=3)  # zaczynamy trening! tutaj ustawiamy liczbe epok\n"
   ]
  },
  {
   "cell_type": "markdown",
   "metadata": {},
   "source": [
    "Możemy ocenić jakość wytrenowanej sieci na zbiorze testowym, używając funkcji evaluate. Opis API tutaj: https://keras.io/models/model/"
   ]
  },
  {
   "cell_type": "code",
   "execution_count": 12,
   "metadata": {},
   "outputs": [
    {
     "name": "stdout",
     "output_type": "stream",
     "text": [
      "10000/10000 [==============================] - 3s 287us/step\n",
      "[14.506285664367676, 0.1]\n"
     ]
    }
   ],
   "source": [
    "score = model.evaluate(X_test, y_test, verbose=1)\n",
    "print(score)"
   ]
  },
  {
   "cell_type": "markdown",
   "metadata": {},
   "source": [
    "Ćwiczenia:\n",
    "\n",
    "1. Dodaj warstwę Dropout przed warstwę z aktywacją \"softmax\", ustaw parametr dropout na 0.5, wytrenuj sieć i przetestuj na zbiorze testowym. Jak zmieniły się wyniki?\n",
    "\n",
    "2. Przetestuj inny wybrany algorytm optymalizacyjny (https://keras.io/optimizers/) z tą samą liczbą epok. Wytrenuj sieć i przetestuj na zbiorze testowym. Jak zmieniły się wyniki? \n",
    "\n",
    "3. Zmień liczbę epok na kilkukrotnie wyższą (10?), wytrenuj sieć i przetestuj na zbiorze testowym. Jak zmieniły się wyniki?\n",
    "\n",
    "4. Wykonaj wizualizację modelu (https://keras.io/visualization/)\n",
    "\n",
    "5. Stwórz model sieci złożony z następujących warstw:\n",
    "  - Conv2D, 32 filtry (5, 5) - wejściowa\n",
    "  - MaxPooling2D, rozmiar (2, 2)\n",
    "  - Dropout 0.25\n",
    "  - Dense\n",
    "  - Dropout 0.25\n",
    "  - Dense\n",
    "  Wszędzie za wyjątkiem ostatniej warstwy stosuj aktywację relu - tutaj zastosuj softmax.\n",
    "  Wytrenuj sieć i przetestuj na zbiorze testowym. \n"
   ]
  },
  {
   "cell_type": "code",
   "execution_count": 49,
   "metadata": {},
   "outputs": [
    {
     "name": "stdout",
     "output_type": "stream",
     "text": [
      "Epoch 1/3\n",
      "50000/50000 [==============================] - 41s 811us/step - loss: 14.4735 - acc: 0.1020\n",
      "Epoch 2/3\n",
      "50000/50000 [==============================] - 35s 701us/step - loss: 14.5076 - acc: 0.0999\n",
      "Epoch 3/3\n",
      "50000/50000 [==============================] - 38s 759us/step - loss: 14.5057 - acc: 0.1000\n"
     ]
    },
    {
     "data": {
      "text/plain": [
       "<keras.callbacks.History at 0x7f1bef88cb70>"
      ]
     },
     "execution_count": 49,
     "metadata": {},
     "output_type": "execute_result"
    }
   ],
   "source": [
    "#towardsdatascience.com\n",
    "\n",
    "from keras.layers import Input, Dense, Dropout, MaxPooling2D, Conv2D, Flatten\n",
    "from keras.models import Model\n",
    "\n",
    "# Wymiarowosc wejscia sieci musi zgadzac sie z x_train.shape\n",
    "inputs = Input(shape=(32, 32, 3))\n",
    "\n",
    "\n",
    "conv = Conv2D(32, (5,5), activation='relu')(inputs)\n",
    "pool2d = MaxPooling2D(pool_size=(2,2))(conv)\n",
    "drop_1 = Dropout(0.25)(pool2d)\n",
    "flat = Flatten()(drop_1)\n",
    "dense_1 = Dense(50, activation='relu')(flat)\n",
    "drop_2 = Dropout(0.25)(dense_1)\n",
    "output = Dense(10, activation=\"softmax\")(drop_2)\n",
    "\n",
    "x = Dense(num_pixels, activation='relu')(inputs)\n",
    "#x = Dense(num_pixels, activation='relu')(x)\n",
    "#predictions = Dense(num_classes, activation='softmax')(x)\n",
    "\n",
    "# tworzenie modelu z wejsciem inputs i wyjsciem predictions\n",
    "# uwaga: w keras 1.x zmien nazwy: inputs->input oraz outputs->output\n",
    "#model = Model(inputs=inputs, outputs=predictions)\n",
    "model = Model(inputs=inputs, outputs=output)\n",
    "model.compile(optimizer='adam', loss='categorical_crossentropy', metrics=['accuracy'])\n",
    "model.fit(x_train, y_train, epochs=3)  # zaczynamy trening! tutaj ustawiamy liczbe epok"
   ]
  },
  {
   "cell_type": "code",
   "execution_count": 48,
   "metadata": {},
   "outputs": [
    {
     "name": "stdout",
     "output_type": "stream",
     "text": [
      "10000/10000 [==============================] - 2s 223us/step\n",
      "[14.50628570251465, 0.1]\n"
     ]
    }
   ],
   "source": [
    "score = model.evaluate(x_test, y_test, verbose=1)\n",
    "print(score)\n"
   ]
  }
 ],
 "metadata": {
  "kernelspec": {
   "display_name": "Python 3",
   "language": "python",
   "name": "python3"
  },
  "language_info": {
   "codemirror_mode": {
    "name": "ipython",
    "version": 3
   },
   "file_extension": ".py",
   "mimetype": "text/x-python",
   "name": "python",
   "nbconvert_exporter": "python",
   "pygments_lexer": "ipython3",
   "version": "3.6.8"
  }
 },
 "nbformat": 4,
 "nbformat_minor": 2
}
