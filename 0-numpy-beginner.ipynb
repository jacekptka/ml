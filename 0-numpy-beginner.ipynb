{
 "cells": [
  {
   "cell_type": "markdown",
   "metadata": {},
   "source": [
    "# Podstawowe operacje w numpy"
   ]
  },
  {
   "cell_type": "markdown",
   "metadata": {},
   "source": [
    "Warto przeczytać tytułem wstępu Tutorial Numpy: https://docs.scipy.org/doc/numpy-dev/user/quickstart.html"
   ]
  },
  {
   "cell_type": "markdown",
   "metadata": {},
   "source": [
    "Głównym obiektem NumPy jest wielowymiarowa tablica. \n",
    "Jest to tabela elementów (zazwyczaj liczb), wszystkich tego samego typu, indeksowanych przez krotkę dodatnich liczb całkowitych. Wymiarach w NumPy nazywane są osiami (axes). Liczba osi to jest ranga (rank).\n",
    "\n",
    "Na przykład współrzędne punktu w przestrzeni 3D [1, 2, 1] to tablica rzędu 1, ponieważ ma jedną oś. Oś ta ma długość 3. W przykładzie przedstawionym poniżej tablica ma rangę 2 (jest dwuwymiarowa). Pierwszy wymiar (oś) ma długość 2, drugi wymiar ma długość 3."
   ]
  },
  {
   "cell_type": "code",
   "execution_count": 1,
   "metadata": {
    "collapsed": true
   },
   "outputs": [],
   "source": [
    "z = [[ 1., 0., 0.],\n",
    " [ 0., 1., 2.]]"
   ]
  },
  {
   "cell_type": "markdown",
   "metadata": {},
   "source": [
    "Klasa tablic w NumPy to ndarray. \n",
    "\n",
    "Warto zauważyć, że numpy.array oferuje więcej niż tablica klasy Class.array w standardowym Python, która obsługuje tylko tablice jednowymiarowe i oferuje mniej funkcji. Ważniejsze atrybuty obiektu ndarray to:\n",
    "\n",
    "ndarray.ndim\n",
    "    Liczba osi (wymiary) tablicy. W pythonie liczba wymiarów jest określana jako ranga.\n",
    "\n",
    "ndarray.shape\n",
    "    Wymiary tablicy. Jest to krotka liczb całkowitych wskazujących rozmiar tablicy w każdym wymiarze. \n",
    "    Dla macierzy z n rzędami i kolumnami m, shape będzie (n, m).\n",
    "    \n",
    "ndarray.dtype\n",
    "    Obiekt opisujący typ elementów tablicy. Numpy.int32, numpy.int16 i numpy.float64 to przykłady."
   ]
  },
  {
   "cell_type": "markdown",
   "metadata": {},
   "source": [
    "### Tworzenie tablic numpy (ndarray)\n",
    "\n",
    "Tablice ndarray możemy tworzyć na kilka sposobów.\n",
    "\n",
    "Tablicę ndarray można utworzyć ze zwykłej listy lub krotki pythonowej za pomocą funkcji array:"
   ]
  },
  {
   "cell_type": "code",
   "execution_count": 2,
   "metadata": {},
   "outputs": [
    {
     "data": {
      "text/plain": [
       "(2, 3)"
      ]
     },
     "execution_count": 2,
     "metadata": {},
     "output_type": "execute_result"
    }
   ],
   "source": [
    "import numpy as np\n",
    "a = np.array(z)\n",
    "a.shape"
   ]
  },
  {
   "cell_type": "markdown",
   "metadata": {},
   "source": [
    "Array przekształca sekwencje sekwencji w tablice dwuwymiarowe, sekwencje sekwencji sekwencji w trójwymiarowe tablice i tak dalej."
   ]
  },
  {
   "cell_type": "code",
   "execution_count": 4,
   "metadata": {},
   "outputs": [
    {
     "data": {
      "text/plain": [
       "array([[1.5, 2. , 3. ],\n",
       "       [4. , 5. , 6. ]])"
      ]
     },
     "execution_count": 4,
     "metadata": {},
     "output_type": "execute_result"
    }
   ],
   "source": [
    "b = np.array([(1.5,2,3), (4,5,6)])\n",
    "b"
   ]
  },
  {
   "cell_type": "markdown",
   "metadata": {},
   "source": [
    "Typ tablicy można również wyraźnie określić w czasie tworzenia:"
   ]
  },
  {
   "cell_type": "code",
   "execution_count": 5,
   "metadata": {},
   "outputs": [
    {
     "data": {
      "text/plain": [
       "array([[1.+0.j, 2.+0.j],\n",
       "       [3.+0.j, 4.+0.j]])"
      ]
     },
     "execution_count": 5,
     "metadata": {},
     "output_type": "execute_result"
    }
   ],
   "source": [
    "c = np.array( [ [1,2], [3,4] ], dtype=complex )\n",
    "c"
   ]
  },
  {
   "cell_type": "markdown",
   "metadata": {},
   "source": [
    "Funkcja zeros tworzy tablicę pełną zer.\n",
    "\n",
    "Funkcja ones tworzą tablicę pełną jedynek.\n",
    "\n",
    "Funkcja empty tworzy tablicę, której początkowa zawartość jest losowa i zależy od stanu pamięci. Domyślnie dtype utworzonej tablicy jest float64."
   ]
  },
  {
   "cell_type": "code",
   "execution_count": 6,
   "metadata": {},
   "outputs": [
    {
     "data": {
      "text/plain": [
       "array([[0., 0., 0., 0.],\n",
       "       [0., 0., 0., 0.],\n",
       "       [0., 0., 0., 0.]])"
      ]
     },
     "execution_count": 6,
     "metadata": {},
     "output_type": "execute_result"
    }
   ],
   "source": [
    "np.zeros( (3,4) )"
   ]
  },
  {
   "cell_type": "code",
   "execution_count": 7,
   "metadata": {},
   "outputs": [
    {
     "data": {
      "text/plain": [
       "array([[[1., 1., 1., 1.],\n",
       "        [1., 1., 1., 1.],\n",
       "        [1., 1., 1., 1.]],\n",
       "\n",
       "       [[1., 1., 1., 1.],\n",
       "        [1., 1., 1., 1.],\n",
       "        [1., 1., 1., 1.]]])"
      ]
     },
     "execution_count": 7,
     "metadata": {},
     "output_type": "execute_result"
    }
   ],
   "source": [
    "np.ones( (2,3,4) )"
   ]
  },
  {
   "cell_type": "markdown",
   "metadata": {},
   "source": [
    "Możemy też tworzyć losowo wygnerowane tablice ndarray dowolnych wymiarów:"
   ]
  },
  {
   "cell_type": "code",
   "execution_count": 8,
   "metadata": {},
   "outputs": [
    {
     "data": {
      "text/plain": [
       "array([[0.73684958, 0.27211333, 0.45313508],\n",
       "       [0.15307994, 0.8835705 , 0.51709487]])"
      ]
     },
     "execution_count": 8,
     "metadata": {},
     "output_type": "execute_result"
    }
   ],
   "source": [
    "b = np.random.random( (2,3) )\n",
    "b"
   ]
  },
  {
   "cell_type": "markdown",
   "metadata": {},
   "source": [
    "Aby utworzyć sekwencje liczb, NumPy udostępnia funkcję analogiczną do range ze zwykłego pythona: arange"
   ]
  },
  {
   "cell_type": "code",
   "execution_count": 9,
   "metadata": {},
   "outputs": [
    {
     "data": {
      "text/plain": [
       "array([10, 15, 20, 25])"
      ]
     },
     "execution_count": 9,
     "metadata": {},
     "output_type": "execute_result"
    }
   ],
   "source": [
    "np.arange( 10, 30, 5 )"
   ]
  },
  {
   "cell_type": "markdown",
   "metadata": {},
   "source": [
    "### Wybrane operacje na tablicach ndarray\n",
    "\n",
    "Funkcja reshape pozwala na zmianę wymiarowości (shape) tablicy:"
   ]
  },
  {
   "cell_type": "code",
   "execution_count": 10,
   "metadata": {},
   "outputs": [
    {
     "data": {
      "text/plain": [
       "array([[ 0,  1,  2,  3,  4],\n",
       "       [ 5,  6,  7,  8,  9],\n",
       "       [10, 11, 12, 13, 14]])"
      ]
     },
     "execution_count": 10,
     "metadata": {},
     "output_type": "execute_result"
    }
   ],
   "source": [
    "import numpy as np\n",
    "a = np.arange(15).reshape(3, 5)\n",
    "a"
   ]
  },
  {
   "cell_type": "markdown",
   "metadata": {},
   "source": [
    "Na tablicach ndarray możemy wykonywać operacje arytmetyczne. Mnożenie macierzy metodą dot product oraz elemwise:"
   ]
  },
  {
   "cell_type": "code",
   "execution_count": 11,
   "metadata": {},
   "outputs": [
    {
     "name": "stdout",
     "output_type": "stream",
     "text": [
      "[[2 0]\n",
      " [0 4]]\n",
      "[[5 4]\n",
      " [3 4]]\n"
     ]
    }
   ],
   "source": [
    "A = np.array( [[1,1],\n",
    "              [0,1]] )\n",
    "B = np.array( [[2,0],\n",
    "              [3,4]] )\n",
    "\n",
    "print(A*B)\n",
    "print(A.dot(B))"
   ]
  },
  {
   "cell_type": "markdown",
   "metadata": {},
   "source": [
    "### Adresowanie i wycinanie fragmentów tablic\n",
    "\n",
    "Można wycinać (slicing) fragmenty tablic ndarray:"
   ]
  },
  {
   "cell_type": "code",
   "execution_count": 12,
   "metadata": {},
   "outputs": [
    {
     "name": "stdout",
     "output_type": "stream",
     "text": [
      "[[41 42 43 44 45]\n",
      " [51 52 53 54 55]]\n"
     ]
    }
   ],
   "source": [
    "A = np.array([\n",
    "[11,12,13,14,15],\n",
    "[21,22,23,24,25],\n",
    "[31,32,33,34,35],\n",
    "[41,42,43,44,45],\n",
    "[51,52,53,54,55]])\n",
    "\n",
    "print(A[3:5])"
   ]
  },
  {
   "cell_type": "code",
   "execution_count": 13,
   "metadata": {},
   "outputs": [
    {
     "name": "stdout",
     "output_type": "stream",
     "text": [
      "[14 24 34 44 54]\n"
     ]
    }
   ],
   "source": [
    "print(A[:,3])"
   ]
  },
  {
   "cell_type": "raw",
   "metadata": {},
   "source": [
    "Zadania:\n",
    "\n",
    "1) Niech x=[1 2 3], a y=[4 5 6]. Skonwertuj na \n",
    "[[1, 4], [2, 5], [3, 6]]\n",
    "\n",
    "2) Niech x =[0, 1, 2]. Konwertuj na\n",
    "[[0, 1, 2, 0, 1, 2],\n",
    "[0, 1, 2, 0, 1, 2]].\n",
    "\n",
    "3) Skonwertuj wynik 2) na jednowymiarową tablicę (podpowiedź: flatten)\n",
    "\n",
    "4) wynik 2) poddaj transpozycji (podpowiedź: transpose)\n",
    "\n",
    "5) wygeneruj losową tablicę 100 x 100. \n",
    "     Policz średnią i odchylenie dla każdej kolumny \n",
    "     Policz średnią i odchylenie z tych średnich\n",
    "     popatrz https://docs.scipy.org/doc/numpy/reference/routines.statistics.html\n",
    "   \n",
    "6) użyj funkcji numpy aby policzyć histogram na danych z 5). \n",
    "   Uruchom dla różnych wartości bin.\n",
    "\n",
    "7) Wygeneruj dwie tablice 1000 x 2 z rozkładu gaussa, \n",
    "   od jednej odejmij 2 (jako skalar), do drugiej dodaj 2. \n",
    "   Dodaj do siebie te tablice. Uruchom histogram jak w 6). Czym się różnią wyniki od uzyskanych w 6)?\n",
    "\n",
    "   Podpowiedź:\n",
    "     import numpy as np\n",
    "     A = [ [np.random.normal() for i in range(1000)]    for j in range(2) ]\n",
    "     A = np.array(A)"
   ]
  },
  {
   "cell_type": "code",
   "execution_count": 39,
   "metadata": {},
   "outputs": [
    {
     "name": "stdout",
     "output_type": "stream",
     "text": [
      "[[1 2 3]\n",
      " [4 5 6]]\n",
      "[[1 4]\n",
      " [2 5]\n",
      " [3 6]]\n"
     ]
    }
   ],
   "source": [
    "x = [1, 2, 3]\n",
    "y = [4, 5, 6]\n",
    "z = np.array( [x,y] )\n",
    "print(z)\n",
    "print(z.T)\n",
    "\n",
    "\n"
   ]
  },
  {
   "cell_type": "code",
   "execution_count": 41,
   "metadata": {},
   "outputs": [
    {
     "name": "stdout",
     "output_type": "stream",
     "text": [
      "[0 1 2 0 1 2 0 1 2 0 1 2]\n",
      "[[0 1 2 0 1 2]\n",
      " [0 1 2 0 1 2]]\n"
     ]
    }
   ],
   "source": [
    "\n",
    "x = np.tile([0, 1, 2], 4)\n",
    "print(x)\n",
    "y = x.reshape( (2,6) )\n",
    "print(y)"
   ]
  },
  {
   "cell_type": "code",
   "execution_count": 47,
   "metadata": {},
   "outputs": [
    {
     "name": "stdout",
     "output_type": "stream",
     "text": [
      "[0 1 2 0 1 2 0 1 2 0 1 2]\n"
     ]
    }
   ],
   "source": [
    "print(y.flatten())"
   ]
  },
  {
   "cell_type": "code",
   "execution_count": 62,
   "metadata": {},
   "outputs": [
    {
     "name": "stdout",
     "output_type": "stream",
     "text": [
      "[[19 15  2 ...  9 37 97]\n",
      " [63 39 43 ... 54 43 61]\n",
      " [38 84 46 ... 30 84 55]\n",
      " ...\n",
      " [53 47 37 ... 84 95 96]\n",
      " [16  5 44 ... 99 26 36]\n",
      " [59 52 59 ...  2  3 56]]\n"
     ]
    },
    {
     "data": {
      "text/plain": [
       "49.189"
      ]
     },
     "execution_count": 62,
     "metadata": {},
     "output_type": "execute_result"
    }
   ],
   "source": [
    "b = np.random.randint(100, size=(100,100) )\n",
    "print(b)\n",
    "np.average(b)"
   ]
  }
 ],
 "metadata": {
  "kernelspec": {
   "display_name": "Python 3",
   "language": "python",
   "name": "python3"
  },
  "language_info": {
   "codemirror_mode": {
    "name": "ipython",
    "version": 3
   },
   "file_extension": ".py",
   "mimetype": "text/x-python",
   "name": "python",
   "nbconvert_exporter": "python",
   "pygments_lexer": "ipython3",
   "version": "3.6.3"
  }
 },
 "nbformat": 4,
 "nbformat_minor": 2
}
